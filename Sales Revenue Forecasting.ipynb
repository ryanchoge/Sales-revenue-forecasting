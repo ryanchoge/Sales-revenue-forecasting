{
 "cells": [
  {
   "cell_type": "markdown",
   "id": "c8d26fb2-e323-430d-a55f-a215b76d8ef0",
   "metadata": {},
   "source": [
    "### Sales Revenue Forecasting for an Online Retailer"
   ]
  },
  {
   "cell_type": "code",
   "execution_count": 1,
   "id": "aa752bc2-2eda-40e6-ba9e-001a146f10e3",
   "metadata": {},
   "outputs": [],
   "source": [
    "import pandas as pd\n",
    "import numpy as np\n",
    "import seaborn as sns\n",
    "import matplotlib.pyplot as plt"
   ]
  },
  {
   "cell_type": "code",
   "execution_count": 3,
   "id": "c69a8d7f-3dfa-43f5-b260-f8cf9f588326",
   "metadata": {},
   "outputs": [],
   "source": [
    "df = pd.read_excel('online_retail_II.xlsx')"
   ]
  },
  {
   "cell_type": "code",
   "execution_count": 5,
   "id": "b9d8b4e0-e60a-46bf-8594-de95807336b5",
   "metadata": {},
   "outputs": [
    {
     "data": {
      "text/html": [
       "<div>\n",
       "<style scoped>\n",
       "    .dataframe tbody tr th:only-of-type {\n",
       "        vertical-align: middle;\n",
       "    }\n",
       "\n",
       "    .dataframe tbody tr th {\n",
       "        vertical-align: top;\n",
       "    }\n",
       "\n",
       "    .dataframe thead th {\n",
       "        text-align: right;\n",
       "    }\n",
       "</style>\n",
       "<table border=\"1\" class=\"dataframe\">\n",
       "  <thead>\n",
       "    <tr style=\"text-align: right;\">\n",
       "      <th></th>\n",
       "      <th>Invoice</th>\n",
       "      <th>StockCode</th>\n",
       "      <th>Description</th>\n",
       "      <th>Quantity</th>\n",
       "      <th>InvoiceDate</th>\n",
       "      <th>Price</th>\n",
       "      <th>Customer ID</th>\n",
       "      <th>Country</th>\n",
       "    </tr>\n",
       "  </thead>\n",
       "  <tbody>\n",
       "    <tr>\n",
       "      <th>0</th>\n",
       "      <td>489434</td>\n",
       "      <td>85048</td>\n",
       "      <td>15CM CHRISTMAS GLASS BALL 20 LIGHTS</td>\n",
       "      <td>12</td>\n",
       "      <td>2009-12-01 07:45:00</td>\n",
       "      <td>6.95</td>\n",
       "      <td>13085.0</td>\n",
       "      <td>United Kingdom</td>\n",
       "    </tr>\n",
       "    <tr>\n",
       "      <th>1</th>\n",
       "      <td>489434</td>\n",
       "      <td>79323P</td>\n",
       "      <td>PINK CHERRY LIGHTS</td>\n",
       "      <td>12</td>\n",
       "      <td>2009-12-01 07:45:00</td>\n",
       "      <td>6.75</td>\n",
       "      <td>13085.0</td>\n",
       "      <td>United Kingdom</td>\n",
       "    </tr>\n",
       "    <tr>\n",
       "      <th>2</th>\n",
       "      <td>489434</td>\n",
       "      <td>79323W</td>\n",
       "      <td>WHITE CHERRY LIGHTS</td>\n",
       "      <td>12</td>\n",
       "      <td>2009-12-01 07:45:00</td>\n",
       "      <td>6.75</td>\n",
       "      <td>13085.0</td>\n",
       "      <td>United Kingdom</td>\n",
       "    </tr>\n",
       "    <tr>\n",
       "      <th>3</th>\n",
       "      <td>489434</td>\n",
       "      <td>22041</td>\n",
       "      <td>RECORD FRAME 7\" SINGLE SIZE</td>\n",
       "      <td>48</td>\n",
       "      <td>2009-12-01 07:45:00</td>\n",
       "      <td>2.10</td>\n",
       "      <td>13085.0</td>\n",
       "      <td>United Kingdom</td>\n",
       "    </tr>\n",
       "    <tr>\n",
       "      <th>4</th>\n",
       "      <td>489434</td>\n",
       "      <td>21232</td>\n",
       "      <td>STRAWBERRY CERAMIC TRINKET BOX</td>\n",
       "      <td>24</td>\n",
       "      <td>2009-12-01 07:45:00</td>\n",
       "      <td>1.25</td>\n",
       "      <td>13085.0</td>\n",
       "      <td>United Kingdom</td>\n",
       "    </tr>\n",
       "  </tbody>\n",
       "</table>\n",
       "</div>"
      ],
      "text/plain": [
       "  Invoice StockCode                          Description  Quantity  \\\n",
       "0  489434     85048  15CM CHRISTMAS GLASS BALL 20 LIGHTS        12   \n",
       "1  489434    79323P                   PINK CHERRY LIGHTS        12   \n",
       "2  489434    79323W                  WHITE CHERRY LIGHTS        12   \n",
       "3  489434     22041         RECORD FRAME 7\" SINGLE SIZE         48   \n",
       "4  489434     21232       STRAWBERRY CERAMIC TRINKET BOX        24   \n",
       "\n",
       "          InvoiceDate  Price  Customer ID         Country  \n",
       "0 2009-12-01 07:45:00   6.95      13085.0  United Kingdom  \n",
       "1 2009-12-01 07:45:00   6.75      13085.0  United Kingdom  \n",
       "2 2009-12-01 07:45:00   6.75      13085.0  United Kingdom  \n",
       "3 2009-12-01 07:45:00   2.10      13085.0  United Kingdom  \n",
       "4 2009-12-01 07:45:00   1.25      13085.0  United Kingdom  "
      ]
     },
     "execution_count": 5,
     "metadata": {},
     "output_type": "execute_result"
    }
   ],
   "source": [
    "df.head()"
   ]
  },
  {
   "cell_type": "code",
   "execution_count": 7,
   "id": "10bc3b2d-710f-41bb-9d80-e198d97c2003",
   "metadata": {},
   "outputs": [
    {
     "name": "stdout",
     "output_type": "stream",
     "text": [
      "<class 'pandas.core.frame.DataFrame'>\n",
      "RangeIndex: 525461 entries, 0 to 525460\n",
      "Data columns (total 8 columns):\n",
      " #   Column       Non-Null Count   Dtype         \n",
      "---  ------       --------------   -----         \n",
      " 0   Invoice      525461 non-null  object        \n",
      " 1   StockCode    525461 non-null  object        \n",
      " 2   Description  522533 non-null  object        \n",
      " 3   Quantity     525461 non-null  int64         \n",
      " 4   InvoiceDate  525461 non-null  datetime64[ns]\n",
      " 5   Price        525461 non-null  float64       \n",
      " 6   Customer ID  417534 non-null  float64       \n",
      " 7   Country      525461 non-null  object        \n",
      "dtypes: datetime64[ns](1), float64(2), int64(1), object(4)\n",
      "memory usage: 32.1+ MB\n"
     ]
    }
   ],
   "source": [
    "df.info()"
   ]
  },
  {
   "cell_type": "code",
   "execution_count": 9,
   "id": "b1b7a32a-e186-421c-bc41-cb3a5f6161c4",
   "metadata": {},
   "outputs": [
    {
     "data": {
      "text/plain": [
       "Invoice             0\n",
       "StockCode           0\n",
       "Description      2928\n",
       "Quantity            0\n",
       "InvoiceDate         0\n",
       "Price               0\n",
       "Customer ID    107927\n",
       "Country             0\n",
       "dtype: int64"
      ]
     },
     "execution_count": 9,
     "metadata": {},
     "output_type": "execute_result"
    }
   ],
   "source": [
    "df.isna().sum()"
   ]
  },
  {
   "cell_type": "code",
   "execution_count": 11,
   "id": "9a6dad7a-fc10-4a5b-b00d-436164c44b17",
   "metadata": {},
   "outputs": [
    {
     "data": {
      "text/plain": [
       "525461"
      ]
     },
     "execution_count": 11,
     "metadata": {},
     "output_type": "execute_result"
    }
   ],
   "source": [
    "len(df)"
   ]
  },
  {
   "cell_type": "code",
   "execution_count": 13,
   "id": "5c1c2895-59cc-442a-92c3-f71bc5177b05",
   "metadata": {},
   "outputs": [],
   "source": [
    "df['Total Price'] = df['Quantity'] * df['Price']"
   ]
  },
  {
   "cell_type": "code",
   "execution_count": 15,
   "id": "30c0dc1c-0b48-4a5d-af6c-cb91f6f7d556",
   "metadata": {},
   "outputs": [
    {
     "data": {
      "text/plain": [
       "Quantity       0.156283\n",
       "Price          0.452592\n",
       "Customer ID   -0.009475\n",
       "Total Price    1.000000\n",
       "Name: Total Price, dtype: float64"
      ]
     },
     "execution_count": 15,
     "metadata": {},
     "output_type": "execute_result"
    }
   ],
   "source": [
    "df.corr(numeric_only=True)['Total Price']"
   ]
  },
  {
   "cell_type": "code",
   "execution_count": 454,
   "id": "23c25abe-debd-4d55-a912-880171d9146f",
   "metadata": {},
   "outputs": [],
   "source": [
    "df['Day_Name'] = df['InvoiceDate'].dt.day_name()\n",
    "df['Day'] = df['InvoiceDate'].dt.day\n",
    "df['Month'] = df['InvoiceDate'].dt.month\n",
    "df['Year'] = df['InvoiceDate'].dt.year\n",
    "df['Season'] = df['Month'].map({12: 'Winter', 1: 'Winter', 2: 'Winter',\n",
    "                                3: 'Spring', 4: 'Spring', 5: 'Spring',\n",
    "                                6: 'Summer', 7: 'Summer', 8: 'Summer',\n",
    "                                9: 'Autumn', 10: 'Autumn', 11: 'Autumn'})"
   ]
  },
  {
   "cell_type": "code",
   "execution_count": 18,
   "id": "0d787fcd-8250-49a6-b08c-bf3d0ac0e837",
   "metadata": {},
   "outputs": [
    {
     "data": {
      "text/html": [
       "<div>\n",
       "<style scoped>\n",
       "    .dataframe tbody tr th:only-of-type {\n",
       "        vertical-align: middle;\n",
       "    }\n",
       "\n",
       "    .dataframe tbody tr th {\n",
       "        vertical-align: top;\n",
       "    }\n",
       "\n",
       "    .dataframe thead th {\n",
       "        text-align: right;\n",
       "    }\n",
       "</style>\n",
       "<table border=\"1\" class=\"dataframe\">\n",
       "  <thead>\n",
       "    <tr style=\"text-align: right;\">\n",
       "      <th></th>\n",
       "      <th>Quantity</th>\n",
       "      <th>Price</th>\n",
       "      <th>Total Price</th>\n",
       "    </tr>\n",
       "  </thead>\n",
       "  <tbody>\n",
       "    <tr>\n",
       "      <th>count</th>\n",
       "      <td>525461.000000</td>\n",
       "      <td>525461.000000</td>\n",
       "      <td>525461.000000</td>\n",
       "    </tr>\n",
       "    <tr>\n",
       "      <th>mean</th>\n",
       "      <td>10.337667</td>\n",
       "      <td>4.688834</td>\n",
       "      <td>18.154506</td>\n",
       "    </tr>\n",
       "    <tr>\n",
       "      <th>std</th>\n",
       "      <td>107.424110</td>\n",
       "      <td>146.126914</td>\n",
       "      <td>160.333083</td>\n",
       "    </tr>\n",
       "    <tr>\n",
       "      <th>min</th>\n",
       "      <td>-9600.000000</td>\n",
       "      <td>-53594.360000</td>\n",
       "      <td>-53594.360000</td>\n",
       "    </tr>\n",
       "    <tr>\n",
       "      <th>25%</th>\n",
       "      <td>1.000000</td>\n",
       "      <td>1.250000</td>\n",
       "      <td>3.750000</td>\n",
       "    </tr>\n",
       "    <tr>\n",
       "      <th>50%</th>\n",
       "      <td>3.000000</td>\n",
       "      <td>2.100000</td>\n",
       "      <td>9.950000</td>\n",
       "    </tr>\n",
       "    <tr>\n",
       "      <th>75%</th>\n",
       "      <td>10.000000</td>\n",
       "      <td>4.210000</td>\n",
       "      <td>17.700000</td>\n",
       "    </tr>\n",
       "    <tr>\n",
       "      <th>max</th>\n",
       "      <td>19152.000000</td>\n",
       "      <td>25111.090000</td>\n",
       "      <td>25111.090000</td>\n",
       "    </tr>\n",
       "  </tbody>\n",
       "</table>\n",
       "</div>"
      ],
      "text/plain": [
       "            Quantity          Price    Total Price\n",
       "count  525461.000000  525461.000000  525461.000000\n",
       "mean       10.337667       4.688834      18.154506\n",
       "std       107.424110     146.126914     160.333083\n",
       "min     -9600.000000  -53594.360000  -53594.360000\n",
       "25%         1.000000       1.250000       3.750000\n",
       "50%         3.000000       2.100000       9.950000\n",
       "75%        10.000000       4.210000      17.700000\n",
       "max     19152.000000   25111.090000   25111.090000"
      ]
     },
     "execution_count": 18,
     "metadata": {},
     "output_type": "execute_result"
    }
   ],
   "source": [
    "df.drop(['Customer ID','InvoiceDate','Year','Month','Day'],axis=1).describe()"
   ]
  },
  {
   "cell_type": "markdown",
   "id": "fd2fc7d2-830a-45d5-b8df-8d71900ae376",
   "metadata": {},
   "source": [
    "###### We drop the Customer ID,'InvoiceDate','Year','Month','Day' columns because it doesn't make sense to have a mean say for Customer ID. We can also see that Quantity and and price have negative minimum values, but we will sort that"
   ]
  },
  {
   "cell_type": "code",
   "execution_count": 546,
   "id": "ffa4797e-0ed4-4c76-9f7f-bc15265c4195",
   "metadata": {},
   "outputs": [
    {
     "ename": "AttributeError",
     "evalue": "Can only use .str accessor with string values!",
     "output_type": "error",
     "traceback": [
      "\u001b[1;31m---------------------------------------------------------------------------\u001b[0m",
      "\u001b[1;31mAttributeError\u001b[0m                            Traceback (most recent call last)",
      "Cell \u001b[1;32mIn[546], line 2\u001b[0m\n\u001b[0;32m      1\u001b[0m \u001b[38;5;66;03m# All cancelled invoices were cancelled had the first letter start with 'C'\u001b[39;00m\n\u001b[1;32m----> 2\u001b[0m canceled_invoices \u001b[38;5;241m=\u001b[39m df[\u001b[43mdf\u001b[49m\u001b[43m[\u001b[49m\u001b[38;5;124;43m'\u001b[39;49m\u001b[38;5;124;43mInvoice\u001b[39;49m\u001b[38;5;124;43m'\u001b[39;49m\u001b[43m]\u001b[49m\u001b[38;5;241;43m.\u001b[39;49m\u001b[43mstr\u001b[49m\u001b[38;5;241m.\u001b[39mcontains(\u001b[38;5;124m'\u001b[39m\u001b[38;5;124mC\u001b[39m\u001b[38;5;124m'\u001b[39m, na\u001b[38;5;241m=\u001b[39m\u001b[38;5;28;01mFalse\u001b[39;00m)]\n\u001b[0;32m      3\u001b[0m canceled_invoices_index \u001b[38;5;241m=\u001b[39m canceled_invoices\u001b[38;5;241m.\u001b[39mindex\u001b[38;5;241m.\u001b[39mtolist()\n",
      "File \u001b[1;32m~\\anaconda3\\envs\\myenv\\lib\\site-packages\\pandas\\core\\generic.py:6299\u001b[0m, in \u001b[0;36mNDFrame.__getattr__\u001b[1;34m(self, name)\u001b[0m\n\u001b[0;32m   6292\u001b[0m \u001b[38;5;28;01mif\u001b[39;00m (\n\u001b[0;32m   6293\u001b[0m     name \u001b[38;5;129;01mnot\u001b[39;00m \u001b[38;5;129;01min\u001b[39;00m \u001b[38;5;28mself\u001b[39m\u001b[38;5;241m.\u001b[39m_internal_names_set\n\u001b[0;32m   6294\u001b[0m     \u001b[38;5;129;01mand\u001b[39;00m name \u001b[38;5;129;01mnot\u001b[39;00m \u001b[38;5;129;01min\u001b[39;00m \u001b[38;5;28mself\u001b[39m\u001b[38;5;241m.\u001b[39m_metadata\n\u001b[0;32m   6295\u001b[0m     \u001b[38;5;129;01mand\u001b[39;00m name \u001b[38;5;129;01mnot\u001b[39;00m \u001b[38;5;129;01min\u001b[39;00m \u001b[38;5;28mself\u001b[39m\u001b[38;5;241m.\u001b[39m_accessors\n\u001b[0;32m   6296\u001b[0m     \u001b[38;5;129;01mand\u001b[39;00m \u001b[38;5;28mself\u001b[39m\u001b[38;5;241m.\u001b[39m_info_axis\u001b[38;5;241m.\u001b[39m_can_hold_identifiers_and_holds_name(name)\n\u001b[0;32m   6297\u001b[0m ):\n\u001b[0;32m   6298\u001b[0m     \u001b[38;5;28;01mreturn\u001b[39;00m \u001b[38;5;28mself\u001b[39m[name]\n\u001b[1;32m-> 6299\u001b[0m \u001b[38;5;28;01mreturn\u001b[39;00m \u001b[38;5;28;43mobject\u001b[39;49m\u001b[38;5;241;43m.\u001b[39;49m\u001b[38;5;21;43m__getattribute__\u001b[39;49m\u001b[43m(\u001b[49m\u001b[38;5;28;43mself\u001b[39;49m\u001b[43m,\u001b[49m\u001b[43m \u001b[49m\u001b[43mname\u001b[49m\u001b[43m)\u001b[49m\n",
      "File \u001b[1;32m~\\anaconda3\\envs\\myenv\\lib\\site-packages\\pandas\\core\\accessor.py:224\u001b[0m, in \u001b[0;36mCachedAccessor.__get__\u001b[1;34m(self, obj, cls)\u001b[0m\n\u001b[0;32m    221\u001b[0m \u001b[38;5;28;01mif\u001b[39;00m obj \u001b[38;5;129;01mis\u001b[39;00m \u001b[38;5;28;01mNone\u001b[39;00m:\n\u001b[0;32m    222\u001b[0m     \u001b[38;5;66;03m# we're accessing the attribute of the class, i.e., Dataset.geo\u001b[39;00m\n\u001b[0;32m    223\u001b[0m     \u001b[38;5;28;01mreturn\u001b[39;00m \u001b[38;5;28mself\u001b[39m\u001b[38;5;241m.\u001b[39m_accessor\n\u001b[1;32m--> 224\u001b[0m accessor_obj \u001b[38;5;241m=\u001b[39m \u001b[38;5;28;43mself\u001b[39;49m\u001b[38;5;241;43m.\u001b[39;49m\u001b[43m_accessor\u001b[49m\u001b[43m(\u001b[49m\u001b[43mobj\u001b[49m\u001b[43m)\u001b[49m\n\u001b[0;32m    225\u001b[0m \u001b[38;5;66;03m# Replace the property with the accessor object. Inspired by:\u001b[39;00m\n\u001b[0;32m    226\u001b[0m \u001b[38;5;66;03m# https://www.pydanny.com/cached-property.html\u001b[39;00m\n\u001b[0;32m    227\u001b[0m \u001b[38;5;66;03m# We need to use object.__setattr__ because we overwrite __setattr__ on\u001b[39;00m\n\u001b[0;32m    228\u001b[0m \u001b[38;5;66;03m# NDFrame\u001b[39;00m\n\u001b[0;32m    229\u001b[0m \u001b[38;5;28mobject\u001b[39m\u001b[38;5;241m.\u001b[39m\u001b[38;5;21m__setattr__\u001b[39m(obj, \u001b[38;5;28mself\u001b[39m\u001b[38;5;241m.\u001b[39m_name, accessor_obj)\n",
      "File \u001b[1;32m~\\anaconda3\\envs\\myenv\\lib\\site-packages\\pandas\\core\\strings\\accessor.py:191\u001b[0m, in \u001b[0;36mStringMethods.__init__\u001b[1;34m(self, data)\u001b[0m\n\u001b[0;32m    188\u001b[0m \u001b[38;5;28;01mdef\u001b[39;00m \u001b[38;5;21m__init__\u001b[39m(\u001b[38;5;28mself\u001b[39m, data) \u001b[38;5;241m-\u001b[39m\u001b[38;5;241m>\u001b[39m \u001b[38;5;28;01mNone\u001b[39;00m:\n\u001b[0;32m    189\u001b[0m     \u001b[38;5;28;01mfrom\u001b[39;00m \u001b[38;5;21;01mpandas\u001b[39;00m\u001b[38;5;21;01m.\u001b[39;00m\u001b[38;5;21;01mcore\u001b[39;00m\u001b[38;5;21;01m.\u001b[39;00m\u001b[38;5;21;01marrays\u001b[39;00m\u001b[38;5;21;01m.\u001b[39;00m\u001b[38;5;21;01mstring_\u001b[39;00m \u001b[38;5;28;01mimport\u001b[39;00m StringDtype\n\u001b[1;32m--> 191\u001b[0m     \u001b[38;5;28mself\u001b[39m\u001b[38;5;241m.\u001b[39m_inferred_dtype \u001b[38;5;241m=\u001b[39m \u001b[38;5;28;43mself\u001b[39;49m\u001b[38;5;241;43m.\u001b[39;49m\u001b[43m_validate\u001b[49m\u001b[43m(\u001b[49m\u001b[43mdata\u001b[49m\u001b[43m)\u001b[49m\n\u001b[0;32m    192\u001b[0m     \u001b[38;5;28mself\u001b[39m\u001b[38;5;241m.\u001b[39m_is_categorical \u001b[38;5;241m=\u001b[39m \u001b[38;5;28misinstance\u001b[39m(data\u001b[38;5;241m.\u001b[39mdtype, CategoricalDtype)\n\u001b[0;32m    193\u001b[0m     \u001b[38;5;28mself\u001b[39m\u001b[38;5;241m.\u001b[39m_is_string \u001b[38;5;241m=\u001b[39m \u001b[38;5;28misinstance\u001b[39m(data\u001b[38;5;241m.\u001b[39mdtype, StringDtype)\n",
      "File \u001b[1;32m~\\anaconda3\\envs\\myenv\\lib\\site-packages\\pandas\\core\\strings\\accessor.py:245\u001b[0m, in \u001b[0;36mStringMethods._validate\u001b[1;34m(data)\u001b[0m\n\u001b[0;32m    242\u001b[0m inferred_dtype \u001b[38;5;241m=\u001b[39m lib\u001b[38;5;241m.\u001b[39minfer_dtype(values, skipna\u001b[38;5;241m=\u001b[39m\u001b[38;5;28;01mTrue\u001b[39;00m)\n\u001b[0;32m    244\u001b[0m \u001b[38;5;28;01mif\u001b[39;00m inferred_dtype \u001b[38;5;129;01mnot\u001b[39;00m \u001b[38;5;129;01min\u001b[39;00m allowed_types:\n\u001b[1;32m--> 245\u001b[0m     \u001b[38;5;28;01mraise\u001b[39;00m \u001b[38;5;167;01mAttributeError\u001b[39;00m(\u001b[38;5;124m\"\u001b[39m\u001b[38;5;124mCan only use .str accessor with string values!\u001b[39m\u001b[38;5;124m\"\u001b[39m)\n\u001b[0;32m    246\u001b[0m \u001b[38;5;28;01mreturn\u001b[39;00m inferred_dtype\n",
      "\u001b[1;31mAttributeError\u001b[0m: Can only use .str accessor with string values!"
     ]
    }
   ],
   "source": [
    "# All cancelled invoices were cancelled had the first letter start with 'C'\n",
    "canceled_invoices = df[df['Invoice'].str.contains('C', na=False)]\n",
    "canceled_invoices_index = canceled_invoices.index.tolist()\n"
   ]
  },
  {
   "cell_type": "code",
   "execution_count": null,
   "id": "c378a249-43a2-4642-b1f4-ba38316714f5",
   "metadata": {},
   "outputs": [],
   "source": []
  },
  {
   "cell_type": "code",
   "execution_count": 20,
   "id": "0cd207f0-8c76-42ff-bee1-9c3a2258bb6a",
   "metadata": {},
   "outputs": [],
   "source": [
    "df=df.drop(canceled_invoices_index)"
   ]
  },
  {
   "cell_type": "code",
   "execution_count": 25,
   "id": "f57c546d-7449-441c-a3fa-0cc2622e818f",
   "metadata": {},
   "outputs": [
    {
     "data": {
      "text/plain": [
       "Day_Name\n",
       "Thursday     96936\n",
       "Monday       92491\n",
       "Tuesday      92365\n",
       "Wednesday    88808\n",
       "Sunday       74242\n",
       "Friday       70011\n",
       "Saturday       402\n",
       "Name: count, dtype: int64"
      ]
     },
     "execution_count": 25,
     "metadata": {},
     "output_type": "execute_result"
    }
   ],
   "source": [
    "df['Day_Name'].value_counts()"
   ]
  },
  {
   "cell_type": "markdown",
   "id": "00003bc9-5987-4589-850d-78e2d10e986d",
   "metadata": {},
   "source": [
    "###### Here we can already see based on customers behaviour, most of them tend to go for shopping on thursday and least on saturday"
   ]
  },
  {
   "cell_type": "code",
   "execution_count": 31,
   "id": "294081cc-0486-40bf-a49b-0558c9da619f",
   "metadata": {},
   "outputs": [
    {
     "data": {
      "text/html": [
       "<div>\n",
       "<style scoped>\n",
       "    .dataframe tbody tr th:only-of-type {\n",
       "        vertical-align: middle;\n",
       "    }\n",
       "\n",
       "    .dataframe tbody tr th {\n",
       "        vertical-align: top;\n",
       "    }\n",
       "\n",
       "    .dataframe thead th {\n",
       "        text-align: right;\n",
       "    }\n",
       "</style>\n",
       "<table border=\"1\" class=\"dataframe\">\n",
       "  <thead>\n",
       "    <tr style=\"text-align: right;\">\n",
       "      <th></th>\n",
       "      <th>Quantity</th>\n",
       "      <th>Price</th>\n",
       "      <th>Customer ID</th>\n",
       "      <th>Total Price</th>\n",
       "      <th>Day</th>\n",
       "      <th>Month</th>\n",
       "      <th>Year</th>\n",
       "    </tr>\n",
       "  </thead>\n",
       "  <tbody>\n",
       "    <tr>\n",
       "      <th>Quantity</th>\n",
       "      <td>1.000000</td>\n",
       "      <td>-0.001772</td>\n",
       "      <td>-0.014947</td>\n",
       "      <td>0.171255</td>\n",
       "      <td>0.001916</td>\n",
       "      <td>-0.008494</td>\n",
       "      <td>0.003607</td>\n",
       "    </tr>\n",
       "    <tr>\n",
       "      <th>Price</th>\n",
       "      <td>-0.001772</td>\n",
       "      <td>1.000000</td>\n",
       "      <td>-0.005869</td>\n",
       "      <td>0.891726</td>\n",
       "      <td>-0.001326</td>\n",
       "      <td>-0.000492</td>\n",
       "      <td>-0.000699</td>\n",
       "    </tr>\n",
       "    <tr>\n",
       "      <th>Customer ID</th>\n",
       "      <td>-0.014947</td>\n",
       "      <td>-0.005869</td>\n",
       "      <td>1.000000</td>\n",
       "      <td>-0.015804</td>\n",
       "      <td>-0.004528</td>\n",
       "      <td>0.036364</td>\n",
       "      <td>-0.018912</td>\n",
       "    </tr>\n",
       "    <tr>\n",
       "      <th>Total Price</th>\n",
       "      <td>0.171255</td>\n",
       "      <td>0.891726</td>\n",
       "      <td>-0.015804</td>\n",
       "      <td>1.000000</td>\n",
       "      <td>-0.002421</td>\n",
       "      <td>-0.001365</td>\n",
       "      <td>0.002271</td>\n",
       "    </tr>\n",
       "    <tr>\n",
       "      <th>Day</th>\n",
       "      <td>0.001916</td>\n",
       "      <td>-0.001326</td>\n",
       "      <td>-0.004528</td>\n",
       "      <td>-0.002421</td>\n",
       "      <td>1.000000</td>\n",
       "      <td>-0.164970</td>\n",
       "      <td>0.176492</td>\n",
       "    </tr>\n",
       "    <tr>\n",
       "      <th>Month</th>\n",
       "      <td>-0.008494</td>\n",
       "      <td>-0.000492</td>\n",
       "      <td>0.036364</td>\n",
       "      <td>-0.001365</td>\n",
       "      <td>-0.164970</td>\n",
       "      <td>1.000000</td>\n",
       "      <td>-0.393983</td>\n",
       "    </tr>\n",
       "    <tr>\n",
       "      <th>Year</th>\n",
       "      <td>0.003607</td>\n",
       "      <td>-0.000699</td>\n",
       "      <td>-0.018912</td>\n",
       "      <td>0.002271</td>\n",
       "      <td>0.176492</td>\n",
       "      <td>-0.393983</td>\n",
       "      <td>1.000000</td>\n",
       "    </tr>\n",
       "  </tbody>\n",
       "</table>\n",
       "</div>"
      ],
      "text/plain": [
       "             Quantity     Price  Customer ID  Total Price       Day     Month  \\\n",
       "Quantity     1.000000 -0.001772    -0.014947     0.171255  0.001916 -0.008494   \n",
       "Price       -0.001772  1.000000    -0.005869     0.891726 -0.001326 -0.000492   \n",
       "Customer ID -0.014947 -0.005869     1.000000    -0.015804 -0.004528  0.036364   \n",
       "Total Price  0.171255  0.891726    -0.015804     1.000000 -0.002421 -0.001365   \n",
       "Day          0.001916 -0.001326    -0.004528    -0.002421  1.000000 -0.164970   \n",
       "Month       -0.008494 -0.000492     0.036364    -0.001365 -0.164970  1.000000   \n",
       "Year         0.003607 -0.000699    -0.018912     0.002271  0.176492 -0.393983   \n",
       "\n",
       "                 Year  \n",
       "Quantity     0.003607  \n",
       "Price       -0.000699  \n",
       "Customer ID -0.018912  \n",
       "Total Price  0.002271  \n",
       "Day          0.176492  \n",
       "Month       -0.393983  \n",
       "Year         1.000000  "
      ]
     },
     "execution_count": 31,
     "metadata": {},
     "output_type": "execute_result"
    }
   ],
   "source": [
    "df.corr(numeric_only=True)"
   ]
  },
  {
   "cell_type": "markdown",
   "id": "e9554a23-5dac-47cf-a7c2-b5ca3de50dfa",
   "metadata": {},
   "source": [
    "###### We can see that quantity will likely impact the total price "
   ]
  },
  {
   "cell_type": "code",
   "execution_count": 33,
   "id": "c1818614-bfc2-437c-854e-3fa2f1257ac8",
   "metadata": {},
   "outputs": [],
   "source": [
    "#df['Quantity']=-1*df['Quantity']<1 \n",
    "df['Quantity']=df['Quantity'].abs()"
   ]
  },
  {
   "cell_type": "code",
   "execution_count": null,
   "id": "cf46d13b-de1d-4e72-8e92-66d322880394",
   "metadata": {},
   "outputs": [],
   "source": [
    "###### Here we assume that the negative quantity was a human input error and maybe he/she was trying to put a dash before the quatity. Therefore we change them to be absolute values"
   ]
  },
  {
   "cell_type": "code",
   "execution_count": 35,
   "id": "73f4a963-1f50-4f6a-b61c-08c103d94d77",
   "metadata": {},
   "outputs": [],
   "source": [
    "def percent_missing(df):\n",
    "    percent_nan = 100 * df.isnull().sum() /len(df)\n",
    "    percent_nan = percent_nan[percent_nan>0].sort_values()\n",
    "    return percent_nan\n",
    "    "
   ]
  },
  {
   "cell_type": "code",
   "execution_count": 37,
   "id": "3580da42-2d87-4e57-9c80-e8edd651ca41",
   "metadata": {},
   "outputs": [],
   "source": [
    "percent_nun = percent_missing(df)"
   ]
  },
  {
   "cell_type": "code",
   "execution_count": 39,
   "id": "238c4bf6-0313-4496-ab68-c4f7b939ad30",
   "metadata": {},
   "outputs": [
    {
     "data": {
      "text/plain": [
       "<Axes: xlabel='None', ylabel='None'>"
      ]
     },
     "execution_count": 39,
     "metadata": {},
     "output_type": "execute_result"
    },
    {
     "data": {
      "image/png": "[encoded data removed]",
      "text/plain": [
       "<Figure size 640x480 with 1 Axes>"
      ]
     },
     "metadata": {},
     "output_type": "display_data"
    }
   ],
   "source": [
    "sns.barplot(x=percent_nun.index,y=percent_nun)"
   ]
  },
  {
   "cell_type": "code",
   "execution_count": 40,
   "id": "ba8f75dc-73eb-4bb4-9bdb-0d608c451a7e",
   "metadata": {},
   "outputs": [
    {
     "data": {
      "text/plain": [
       "array([179403, 276274, 403472])"
      ]
     },
     "execution_count": 40,
     "metadata": {},
     "output_type": "execute_result"
    }
   ],
   "source": [
    "neg_price_index = df[df['Price']<0].index.values\n",
    "neg_price_index "
   ]
  },
  {
   "cell_type": "code",
   "execution_count": 41,
   "id": "221cf9d1-0b38-4ffa-ab7c-308a539dc1c0",
   "metadata": {},
   "outputs": [],
   "source": [
    "df = df.drop(neg_price_index,axis=0)"
   ]
  },
  {
   "cell_type": "code",
   "execution_count": 45,
   "id": "975dbc57-0df4-49c9-811d-f9a60365ec7b",
   "metadata": {},
   "outputs": [
    {
     "data": {
      "text/html": [
       "<div>\n",
       "<style scoped>\n",
       "    .dataframe tbody tr th:only-of-type {\n",
       "        vertical-align: middle;\n",
       "    }\n",
       "\n",
       "    .dataframe tbody tr th {\n",
       "        vertical-align: top;\n",
       "    }\n",
       "\n",
       "    .dataframe thead th {\n",
       "        text-align: right;\n",
       "    }\n",
       "</style>\n",
       "<table border=\"1\" class=\"dataframe\">\n",
       "  <thead>\n",
       "    <tr style=\"text-align: right;\">\n",
       "      <th></th>\n",
       "      <th>Quantity</th>\n",
       "      <th>Price</th>\n",
       "      <th>Total Price</th>\n",
       "    </tr>\n",
       "  </thead>\n",
       "  <tbody>\n",
       "    <tr>\n",
       "      <th>count</th>\n",
       "      <td>515252.00000</td>\n",
       "      <td>515252.000000</td>\n",
       "      <td>515252.000000</td>\n",
       "    </tr>\n",
       "    <tr>\n",
       "      <th>mean</th>\n",
       "      <td>12.37785</td>\n",
       "      <td>4.221416</td>\n",
       "      <td>20.001654</td>\n",
       "    </tr>\n",
       "    <tr>\n",
       "      <th>std</th>\n",
       "      <td>104.19530</td>\n",
       "      <td>63.435424</td>\n",
       "      <td>90.608856</td>\n",
       "    </tr>\n",
       "    <tr>\n",
       "      <th>min</th>\n",
       "      <td>1.00000</td>\n",
       "      <td>0.000000</td>\n",
       "      <td>-0.000000</td>\n",
       "    </tr>\n",
       "    <tr>\n",
       "      <th>25%</th>\n",
       "      <td>1.00000</td>\n",
       "      <td>1.250000</td>\n",
       "      <td>3.900000</td>\n",
       "    </tr>\n",
       "    <tr>\n",
       "      <th>50%</th>\n",
       "      <td>3.00000</td>\n",
       "      <td>2.100000</td>\n",
       "      <td>10.080000</td>\n",
       "    </tr>\n",
       "    <tr>\n",
       "      <th>75%</th>\n",
       "      <td>12.00000</td>\n",
       "      <td>4.210000</td>\n",
       "      <td>17.700000</td>\n",
       "    </tr>\n",
       "    <tr>\n",
       "      <th>max</th>\n",
       "      <td>19152.00000</td>\n",
       "      <td>25111.090000</td>\n",
       "      <td>25111.090000</td>\n",
       "    </tr>\n",
       "  </tbody>\n",
       "</table>\n",
       "</div>"
      ],
      "text/plain": [
       "           Quantity          Price    Total Price\n",
       "count  515252.00000  515252.000000  515252.000000\n",
       "mean       12.37785       4.221416      20.001654\n",
       "std       104.19530      63.435424      90.608856\n",
       "min         1.00000       0.000000      -0.000000\n",
       "25%         1.00000       1.250000       3.900000\n",
       "50%         3.00000       2.100000      10.080000\n",
       "75%        12.00000       4.210000      17.700000\n",
       "max     19152.00000   25111.090000   25111.090000"
      ]
     },
     "execution_count": 45,
     "metadata": {},
     "output_type": "execute_result"
    }
   ],
   "source": [
    "df.drop(['Customer ID','InvoiceDate','Year','Month','Day'],axis=1).describe()"
   ]
  },
  {
   "cell_type": "code",
   "execution_count": 47,
   "id": "10a7605c-56d3-43ed-bd88-dbbd0f13b4f6",
   "metadata": {},
   "outputs": [
    {
     "name": "stdout",
     "output_type": "stream",
     "text": [
      "<class 'pandas.core.frame.DataFrame'>\n",
      "Index: 515252 entries, 0 to 525460\n",
      "Data columns (total 13 columns):\n",
      " #   Column       Non-Null Count   Dtype         \n",
      "---  ------       --------------   -----         \n",
      " 0   Invoice      515252 non-null  object        \n",
      " 1   StockCode    515252 non-null  object        \n",
      " 2   Description  512324 non-null  object        \n",
      " 3   Quantity     515252 non-null  int64         \n",
      " 4   InvoiceDate  515252 non-null  datetime64[ns]\n",
      " 5   Price        515252 non-null  float64       \n",
      " 6   Customer ID  407695 non-null  float64       \n",
      " 7   Country      515252 non-null  object        \n",
      " 8   Total Price  515252 non-null  float64       \n",
      " 9   Day_Name     515252 non-null  object        \n",
      " 10  Day          515252 non-null  int32         \n",
      " 11  Month        515252 non-null  int32         \n",
      " 12  Year         515252 non-null  int32         \n",
      "dtypes: datetime64[ns](1), float64(3), int32(3), int64(1), object(5)\n",
      "memory usage: 49.1+ MB\n"
     ]
    }
   ],
   "source": [
    "df.info()"
   ]
  },
  {
   "cell_type": "code",
   "execution_count": 49,
   "id": "e7bdea85-2757-42d7-817a-e5af019fbae1",
   "metadata": {},
   "outputs": [
    {
     "data": {
      "text/plain": [
       "0.5682656253638997"
      ]
     },
     "execution_count": 49,
     "metadata": {},
     "output_type": "execute_result"
    }
   ],
   "source": [
    "100*(len(df[(df['Description'].isna()) & (df['Price']==0)& (df['Customer ID'].isna())])/len(df))"
   ]
  },
  {
   "cell_type": "code",
   "execution_count": 51,
   "id": "bf42d569-309d-46d6-8e75-fc61a4bf2628",
   "metadata": {},
   "outputs": [],
   "source": [
    "null_info = df[(df['Description'].isna()) & (df['Price']==0)& (df['Customer ID'].isna())].index.tolist()\n",
    "#null_info"
   ]
  },
  {
   "cell_type": "code",
   "execution_count": 53,
   "id": "d85018e1-a443-4494-979e-67536661793e",
   "metadata": {},
   "outputs": [],
   "source": [
    "df = df.drop(null_info)"
   ]
  },
  {
   "cell_type": "code",
   "execution_count": 55,
   "id": "1ed3fd14-5e7a-4ba3-b184-895e19241d2c",
   "metadata": {},
   "outputs": [],
   "source": [
    "zero_prices = df[df['Price']==0].index.values"
   ]
  },
  {
   "cell_type": "code",
   "execution_count": 57,
   "id": "905d1473-5b4a-4ffd-8970-06e6eeac7982",
   "metadata": {},
   "outputs": [],
   "source": [
    "df = df.drop(zero_prices)"
   ]
  },
  {
   "cell_type": "code",
   "execution_count": 61,
   "id": "2a574d48-9b9c-454c-93e1-371a752c6456",
   "metadata": {},
   "outputs": [],
   "source": [
    "#df[(df['Customer ID'].isna()) &(df['Invoice'].duplicated())]\n",
    "result = df[df['Invoice'].duplicated(keep=False) & df['Customer ID'].isna()]"
   ]
  },
  {
   "cell_type": "code",
   "execution_count": 63,
   "id": "9357db6f-0387-4fcc-ad7f-7b9cd953a99a",
   "metadata": {},
   "outputs": [
    {
     "data": {
      "text/plain": [
       "103510"
      ]
     },
     "execution_count": 63,
     "metadata": {},
     "output_type": "execute_result"
    }
   ],
   "source": [
    "len(result)"
   ]
  },
  {
   "cell_type": "markdown",
   "id": "78ff05ae-3756-4278-bf33-83b9732c8cc2",
   "metadata": {},
   "source": [
    "### Which products bring the most revenue?"
   ]
  },
  {
   "cell_type": "code",
   "execution_count": 76,
   "id": "57862290-f821-4042-a4d0-5031c554afee",
   "metadata": {},
   "outputs": [
    {
     "data": {
      "text/html": [
       "<div>\n",
       "<style scoped>\n",
       "    .dataframe tbody tr th:only-of-type {\n",
       "        vertical-align: middle;\n",
       "    }\n",
       "\n",
       "    .dataframe tbody tr th {\n",
       "        vertical-align: top;\n",
       "    }\n",
       "\n",
       "    .dataframe thead th {\n",
       "        text-align: right;\n",
       "    }\n",
       "</style>\n",
       "<table border=\"1\" class=\"dataframe\">\n",
       "  <thead>\n",
       "    <tr style=\"text-align: right;\">\n",
       "      <th></th>\n",
       "      <th>Quantity</th>\n",
       "      <th>Total Price</th>\n",
       "      <th>Transaction Count</th>\n",
       "      <th>Avg Unit Price</th>\n",
       "    </tr>\n",
       "    <tr>\n",
       "      <th>StockCode</th>\n",
       "      <th></th>\n",
       "      <th></th>\n",
       "      <th></th>\n",
       "      <th></th>\n",
       "    </tr>\n",
       "  </thead>\n",
       "  <tbody>\n",
       "    <tr>\n",
       "      <th>M</th>\n",
       "      <td>2826</td>\n",
       "      <td>262606.010</td>\n",
       "      <td>555</td>\n",
       "      <td>92.924986</td>\n",
       "    </tr>\n",
       "    <tr>\n",
       "      <th>22423</th>\n",
       "      <td>13698</td>\n",
       "      <td>170078.510</td>\n",
       "      <td>2044</td>\n",
       "      <td>12.416302</td>\n",
       "    </tr>\n",
       "    <tr>\n",
       "      <th>85123A</th>\n",
       "      <td>58487</td>\n",
       "      <td>158590.870</td>\n",
       "      <td>3421</td>\n",
       "      <td>2.711558</td>\n",
       "    </tr>\n",
       "    <tr>\n",
       "      <th>DOT</th>\n",
       "      <td>730</td>\n",
       "      <td>116408.710</td>\n",
       "      <td>730</td>\n",
       "      <td>159.463986</td>\n",
       "    </tr>\n",
       "    <tr>\n",
       "      <th>85099B</th>\n",
       "      <td>49875</td>\n",
       "      <td>89114.780</td>\n",
       "      <td>2012</td>\n",
       "      <td>1.786763</td>\n",
       "    </tr>\n",
       "    <tr>\n",
       "      <th>...</th>\n",
       "      <td>...</td>\n",
       "      <td>...</td>\n",
       "      <td>...</td>\n",
       "      <td>...</td>\n",
       "    </tr>\n",
       "    <tr>\n",
       "      <th>79151B</th>\n",
       "      <td>1</td>\n",
       "      <td>0.420</td>\n",
       "      <td>1</td>\n",
       "      <td>0.420000</td>\n",
       "    </tr>\n",
       "    <tr>\n",
       "      <th>84206C</th>\n",
       "      <td>2</td>\n",
       "      <td>0.380</td>\n",
       "      <td>2</td>\n",
       "      <td>0.190000</td>\n",
       "    </tr>\n",
       "    <tr>\n",
       "      <th>35930</th>\n",
       "      <td>1</td>\n",
       "      <td>0.380</td>\n",
       "      <td>1</td>\n",
       "      <td>0.380000</td>\n",
       "    </tr>\n",
       "    <tr>\n",
       "      <th>84205C</th>\n",
       "      <td>2</td>\n",
       "      <td>0.380</td>\n",
       "      <td>1</td>\n",
       "      <td>0.190000</td>\n",
       "    </tr>\n",
       "    <tr>\n",
       "      <th>PADS</th>\n",
       "      <td>14</td>\n",
       "      <td>0.014</td>\n",
       "      <td>14</td>\n",
       "      <td>0.001000</td>\n",
       "    </tr>\n",
       "  </tbody>\n",
       "</table>\n",
       "<p>4251 rows × 4 columns</p>\n",
       "</div>"
      ],
      "text/plain": [
       "           Quantity  Total Price  Transaction Count  Avg Unit Price\n",
       "StockCode                                                          \n",
       "M              2826   262606.010                555       92.924986\n",
       "22423         13698   170078.510               2044       12.416302\n",
       "85123A        58487   158590.870               3421        2.711558\n",
       "DOT             730   116408.710                730      159.463986\n",
       "85099B        49875    89114.780               2012        1.786763\n",
       "...             ...          ...                ...             ...\n",
       "79151B            1        0.420                  1        0.420000\n",
       "84206C            2        0.380                  2        0.190000\n",
       "35930             1        0.380                  1        0.380000\n",
       "84205C            2        0.380                  1        0.190000\n",
       "PADS             14        0.014                 14        0.001000\n",
       "\n",
       "[4251 rows x 4 columns]"
      ]
     },
     "execution_count": 76,
     "metadata": {},
     "output_type": "execute_result"
    }
   ],
   "source": [
    "grouped.sort_values('Total Price',ascending=False)"
   ]
  },
  {
   "cell_type": "code",
   "execution_count": 78,
   "id": "debefe80-d308-4117-a376-eeefd50e8a56",
   "metadata": {},
   "outputs": [
    {
     "name": "stdout",
     "output_type": "stream",
     "text": [
      "Product M brings the largest revenue. The total price generated was 262606\n"
     ]
    }
   ],
   "source": [
    "print('Product M brings the largest revenue. The total price generated was 262606')"
   ]
  },
  {
   "cell_type": "markdown",
   "id": "7422c8fe-453c-42a5-8e03-1572eb10dc60",
   "metadata": {},
   "source": [
    "### Customer Behavior Metrics:\n",
    "\n",
    "Recency: Days since last purchase\n",
    "\n",
    "Frequency: Number of purchases\n",
    "\n",
    "Monetary: Total spend (CLTV-style)\n",
    "\n",
    "AverageBasketValue = TotalSpend / NumberOfOrders\n",
    "\n"
   ]
  },
  {
   "cell_type": "code",
   "execution_count": 174,
   "id": "76342fc8-b5a9-4e95-9243-713dace26e40",
   "metadata": {},
   "outputs": [
    {
     "data": {
      "image/png": "[encoded data removed]",
      "text/plain": [
       "<Figure size 640x480 with 1 Axes>"
      ]
     },
     "metadata": {},
     "output_type": "display_data"
    }
   ],
   "source": [
    "sns.barplot(x=country_sales.index,y=country_sales.values)\n",
    "plt.xticks(rotation=90)\n",
    "plt.ylim((0,100000))\n",
    "plt.ylabel('Total Sales')\n",
    "plt.title('Total Sales by Country')\n",
    "plt.tight_layout()\n",
    "plt.show()"
   ]
  },
  {
   "cell_type": "code",
   "execution_count": null,
   "id": "2842f1ed-620e-4777-a1d5-8e37b7ac0410",
   "metadata": {},
   "outputs": [],
   "source": [
    "sns.displot(df['Total Price'])"
   ]
  },
  {
   "cell_type": "code",
   "execution_count": 140,
   "id": "23109bf2-5611-4514-a7e1-5f31d3ef42a5",
   "metadata": {},
   "outputs": [],
   "source": [
    "sample = df.sample(frac=0.05,random_state=101)"
   ]
  },
  {
   "cell_type": "code",
   "execution_count": 170,
   "id": "98e8dcb2-f554-4971-bbea-f91f26f6a5b7",
   "metadata": {},
   "outputs": [
    {
     "data": {
      "text/plain": [
       "<Axes: xlabel='Day_Name', ylabel='Total Price'>"
      ]
     },
     "execution_count": 170,
     "metadata": {},
     "output_type": "execute_result"
    },
    {
     "data": {
      "image/png": "[encoded data removed]",
      "text/plain": [
       "<Figure size 640x480 with 1 Axes>"
      ]
     },
     "metadata": {},
     "output_type": "display_data"
    }
   ],
   "source": [
    "sns.barplot(data=sample,x='Day_Name',y='Total Price')"
   ]
  },
  {
   "cell_type": "code",
   "execution_count": 224,
   "id": "f940e38f-aece-4028-b91e-095811265686",
   "metadata": {},
   "outputs": [],
   "source": [
    "top_ten_largest_sale = df.groupby('StockCode')['Total Price'].sum().nlargest(10)"
   ]
  },
  {
   "cell_type": "code",
   "execution_count": 226,
   "id": "3e6820b3-e501-4570-9760-d187a5cda75a",
   "metadata": {},
   "outputs": [
    {
     "data": {
      "text/html": [
       "<div>\n",
       "<style scoped>\n",
       "    .dataframe tbody tr th:only-of-type {\n",
       "        vertical-align: middle;\n",
       "    }\n",
       "\n",
       "    .dataframe tbody tr th {\n",
       "        vertical-align: top;\n",
       "    }\n",
       "\n",
       "    .dataframe thead th {\n",
       "        text-align: right;\n",
       "    }\n",
       "</style>\n",
       "<table border=\"1\" class=\"dataframe\">\n",
       "  <thead>\n",
       "    <tr style=\"text-align: right;\">\n",
       "      <th></th>\n",
       "      <th>Total Price</th>\n",
       "    </tr>\n",
       "    <tr>\n",
       "      <th>StockCode</th>\n",
       "      <th></th>\n",
       "    </tr>\n",
       "  </thead>\n",
       "  <tbody>\n",
       "    <tr>\n",
       "      <th>M</th>\n",
       "      <td>262606.01</td>\n",
       "    </tr>\n",
       "    <tr>\n",
       "      <th>22423</th>\n",
       "      <td>170078.51</td>\n",
       "    </tr>\n",
       "    <tr>\n",
       "      <th>85123A</th>\n",
       "      <td>158590.87</td>\n",
       "    </tr>\n",
       "    <tr>\n",
       "      <th>DOT</th>\n",
       "      <td>116408.71</td>\n",
       "    </tr>\n",
       "    <tr>\n",
       "      <th>85099B</th>\n",
       "      <td>89114.78</td>\n",
       "    </tr>\n",
       "    <tr>\n",
       "      <th>84879</th>\n",
       "      <td>73092.99</td>\n",
       "    </tr>\n",
       "    <tr>\n",
       "      <th>22086</th>\n",
       "      <td>58189.25</td>\n",
       "    </tr>\n",
       "    <tr>\n",
       "      <th>47566</th>\n",
       "      <td>49682.72</td>\n",
       "    </tr>\n",
       "    <tr>\n",
       "      <th>POST</th>\n",
       "      <td>49477.54</td>\n",
       "    </tr>\n",
       "    <tr>\n",
       "      <th>84347</th>\n",
       "      <td>47985.09</td>\n",
       "    </tr>\n",
       "  </tbody>\n",
       "</table>\n",
       "</div>"
      ],
      "text/plain": [
       "           Total Price\n",
       "StockCode             \n",
       "M            262606.01\n",
       "22423        170078.51\n",
       "85123A       158590.87\n",
       "DOT          116408.71\n",
       "85099B        89114.78\n",
       "84879         73092.99\n",
       "22086         58189.25\n",
       "47566         49682.72\n",
       "POST          49477.54\n",
       "84347         47985.09"
      ]
     },
     "execution_count": 226,
     "metadata": {},
     "output_type": "execute_result"
    }
   ],
   "source": [
    "top_ten_largest_sale = pd.DataFrame(top_ten_largest_sale)\n",
    "top_ten_largest_sale"
   ]
  },
  {
   "cell_type": "markdown",
   "id": "61bc40d4-6486-4b59-8f68-11315a9a2682",
   "metadata": {},
   "source": [
    "### What are the most purchased products"
   ]
  },
  {
   "cell_type": "code",
   "execution_count": 240,
   "id": "3b0b743b-81ee-49e9-9e05-dec3de9cd277",
   "metadata": {},
   "outputs": [
    {
     "data": {
      "image/png": "[encoded data removed]",
      "text/plain": [
       "<Figure size 640x480 with 1 Axes>"
      ]
     },
     "metadata": {},
     "output_type": "display_data"
    }
   ],
   "source": [
    "plt.title('Most purchased Product')\n",
    "sns.barplot(x='StockCode', y='Total Price',data=top_ten_largest_sale,hue='StockCode')\n",
    "plt.xticks(rotation=90)\n",
    "plt.show()\n"
   ]
  },
  {
   "cell_type": "code",
   "execution_count": 247,
   "id": "1bbfbf1e-6b47-426c-b1ea-17af1e9bf56b",
   "metadata": {},
   "outputs": [
    {
     "data": {
      "text/plain": [
       "Country\n",
       "United Kingdom    8845755.693\n",
       "EIRE               380977.820\n",
       "Netherlands        268786.000\n",
       "Germany            202395.321\n",
       "France             147211.490\n",
       "Name: Total Price, dtype: float64"
      ]
     },
     "execution_count": 247,
     "metadata": {},
     "output_type": "execute_result"
    }
   ],
   "source": [
    "top5_sales_by_country = df.groupby('Country')['Total Price'].sum().nlargest(5)\n",
    "top5_sales_by_country"
   ]
  },
  {
   "cell_type": "code",
   "execution_count": 416,
   "id": "e2d57da7-e16d-4480-8a43-d2337b08acc0",
   "metadata": {},
   "outputs": [
    {
     "data": {
      "image/png": "[encoded data removed]",
      "text/plain": [
       "<Figure size 1200x800 with 1 Axes>"
      ]
     },
     "metadata": {},
     "output_type": "display_data"
    }
   ],
   "source": [
    "plt.figure(figsize=(12,8))\n",
    "plt.pie(top5_sales_by_country, labels=top5_sales_by_country.index, autopct='%1.1f%%', startangle=340,labeldistance=0.68,rotatelabels=True)\n",
    "plt.title('Sales Distribution by Country (Top 5)')\n",
    "plt.axis('equal')  # Equal aspect ratio makes it a circle\n",
    "plt.show()"
   ]
  },
  {
   "cell_type": "code",
   "execution_count": 259,
   "id": "735f7610-4dab-463b-80cb-07895bd8086f",
   "metadata": {},
   "outputs": [
    {
     "data": {
      "text/plain": [
       "<Axes: xlabel='Country'>"
      ]
     },
     "execution_count": 259,
     "metadata": {},
     "output_type": "execute_result"
    },
    {
     "data": {
      "image/png": "[encoded data removed]",
      "text/plain": [
       "<Figure size 640x480 with 1 Axes>"
      ]
     },
     "metadata": {},
     "output_type": "display_data"
    }
   ],
   "source": [
    "sns.barplot(x=top5_sales_by_country.index, y=top5_sales_by_country.values)"
   ]
  },
  {
   "cell_type": "markdown",
   "id": "b0cdf5e0-03e9-4b60-bf67-8335009f354e",
   "metadata": {},
   "source": [
    "### Which hour of the day, day of the week is when most transactions happen?"
   ]
  },
  {
   "cell_type": "code",
   "execution_count": 282,
   "id": "8e4ee6c9-7a01-458b-90c6-9aaf5dd29f62",
   "metadata": {},
   "outputs": [],
   "source": [
    "df['Hour'] = df['InvoiceDate'].dt.hour"
   ]
  },
  {
   "cell_type": "code",
   "execution_count": 312,
   "id": "d74a12aa-c7f5-4a67-8be4-08e15128347b",
   "metadata": {},
   "outputs": [
    {
     "data": {
      "text/plain": [
       "Hour\n",
       "7       45173.360\n",
       "8      248582.160\n",
       "9      811927.190\n",
       "10    1182529.102\n",
       "11    1344567.013\n",
       "12    1465961.471\n",
       "13    1336833.954\n",
       "14    1203783.100\n",
       "15    1125232.302\n",
       "16     887118.761\n",
       "17     417608.631\n",
       "18     137325.940\n",
       "19      78326.000\n",
       "20      20923.040\n",
       "Name: Total Price, dtype: float64"
      ]
     },
     "execution_count": 312,
     "metadata": {},
     "output_type": "execute_result"
    }
   ],
   "source": [
    "sales_per_hour = df.groupby('Hour')['Total Price'].sum()\n",
    "sales_per_hour \n",
    "#=  pd.DataFrame(sales_per_hour)"
   ]
  },
  {
   "cell_type": "code",
   "execution_count": 438,
   "id": "e3626f5b-8f2b-43f8-beae-0b2282ccc21b",
   "metadata": {},
   "outputs": [
    {
     "data": {
      "image/png": "[encoded data removed]",
      "text/plain": [
       "<Figure size 1200x400 with 1 Axes>"
      ]
     },
     "metadata": {},
     "output_type": "display_data"
    }
   ],
   "source": [
    "plt.figure(figsize=(12, 4))\n",
    "plt.plot(sales_per_hour.index, sales_per_hour.values, marker='X',ms=5,lw=0.5)\n",
    "plt.title('Sales Distribution by Hour of the Day')\n",
    "plt.xlabel('Hour of Day')\n",
    "plt.ylabel('Total Sales')\n",
    "plt.xticks(range(6, 22))  # Ensure all 24 hours are shown\n",
    "plt.show()"
   ]
  },
  {
   "cell_type": "markdown",
   "id": "2c9f4ef6-4c20-48fb-878b-3c59a11731ab",
   "metadata": {},
   "source": [
    "##### Sales started at aroud 7am, the sales increase gradually upto its peak at noon then gradually droped and finally ended at around 8pm"
   ]
  },
  {
   "cell_type": "code",
   "execution_count": 352,
   "id": "472ff8ac-4126-46fd-833c-9f36d32e5669",
   "metadata": {},
   "outputs": [],
   "source": [
    "sales_per_week = df.groupby('Day_Name')['Total Price'].sum()\n",
    "# Define correct order\n",
    "day_order = ['Monday', 'Tuesday', 'Wednesday', 'Thursday', 'Friday', 'Saturday', 'Sunday']\n",
    "sales_per_week.index = pd.Categorical(sales_per_week.index, categories=day_order, ordered=True)\n",
    "sales_per_week = sales_per_week.sort_index()\n"
   ]
  },
  {
   "cell_type": "code",
   "execution_count": 360,
   "id": "6808046a-a049-47a4-a7c7-5ae37e58bde2",
   "metadata": {},
   "outputs": [
    {
     "data": {
      "image/png": "[encoded data removed]",
      "text/plain": [
       "<Figure size 1200x400 with 1 Axes>"
      ]
     },
     "metadata": {},
     "output_type": "display_data"
    }
   ],
   "source": [
    "plt.figure(figsize=(12,4))\n",
    "plt.title('Sales Distribution Per Days of the week')\n",
    "plt.plot(sales_per_week.index,sales_per_week.values)\n",
    "plt.ylabel('Total sales')\n",
    "plt.xlabel('Days of the week')\n",
    "plt.show()"
   ]
  },
  {
   "cell_type": "markdown",
   "id": "7bd805af-6b0d-405f-a05b-4453def867b8",
   "metadata": {},
   "source": [
    "##### We can see that from monday to wednesday the sales were flactuating but spiked on thursday. It droped on friday then sunk drastically on saturday. On sunday it started rising again"
   ]
  },
  {
   "cell_type": "code",
   "execution_count": 364,
   "id": "7628b141-db88-447f-a9e8-814fe0e59f6a",
   "metadata": {},
   "outputs": [
    {
     "data": {
      "text/plain": [
       "Month\n",
       "1      652708.502\n",
       "2      553339.736\n",
       "3      833570.131\n",
       "4      681528.992\n",
       "5      659858.860\n",
       "6      752270.140\n",
       "7      650712.940\n",
       "8      697274.910\n",
       "9      924333.011\n",
       "10    1165483.910\n",
       "11    1470272.482\n",
       "12    1264538.410\n",
       "Name: Total Price, dtype: float64"
      ]
     },
     "execution_count": 364,
     "metadata": {},
     "output_type": "execute_result"
    }
   ],
   "source": [
    "sales_per_mon = df.groupby('Month')['Total Price'].sum()\n",
    "sales_per_mon"
   ]
  },
  {
   "cell_type": "code",
   "execution_count": 440,
   "id": "c8850bed-2d2a-4fa0-a569-106b474a437a",
   "metadata": {},
   "outputs": [
    {
     "data": {
      "image/png": "[encoded data removed]",
      "text/plain": [
       "<Figure size 1200x400 with 1 Axes>"
      ]
     },
     "metadata": {},
     "output_type": "display_data"
    }
   ],
   "source": [
    "plt.figure(figsize=(12,4))\n",
    "plt.title('Sales distribution by Month')\n",
    "plt.plot(sales_per_mon.index,sales_per_mon.values)\n",
    "plt.xlabel('Months')\n",
    "plt.ylabel('Total Sales')\n",
    "plt.show()"
   ]
  },
  {
   "cell_type": "markdown",
   "id": "c3f2f5d9-1852-43fa-92a0-1dd77db2be9c",
   "metadata": {},
   "source": [
    "##### From january the sales as it entered feb then flactuated from March to august where it started rising till its peak on the month of november. As it moved towards december it appeared to be dropping but we cant conclude at that because of the limitation of the data's date"
   ]
  },
  {
   "cell_type": "code",
   "execution_count": 442,
   "id": "928d5103-b1f7-41bd-85ac-ac8f30c5897f",
   "metadata": {},
   "outputs": [
    {
     "data": {
      "text/html": [
       "<div>\n",
       "<style scoped>\n",
       "    .dataframe tbody tr th:only-of-type {\n",
       "        vertical-align: middle;\n",
       "    }\n",
       "\n",
       "    .dataframe tbody tr th {\n",
       "        vertical-align: top;\n",
       "    }\n",
       "\n",
       "    .dataframe thead th {\n",
       "        text-align: right;\n",
       "    }\n",
       "</style>\n",
       "<table border=\"1\" class=\"dataframe\">\n",
       "  <thead>\n",
       "    <tr style=\"text-align: right;\">\n",
       "      <th></th>\n",
       "      <th>Invoice</th>\n",
       "      <th>StockCode</th>\n",
       "      <th>Description</th>\n",
       "      <th>Quantity</th>\n",
       "      <th>InvoiceDate</th>\n",
       "      <th>Price</th>\n",
       "      <th>Customer ID</th>\n",
       "      <th>Country</th>\n",
       "      <th>Total Price</th>\n",
       "      <th>Day_Name</th>\n",
       "      <th>Day</th>\n",
       "      <th>Month</th>\n",
       "      <th>Year</th>\n",
       "      <th>Hour</th>\n",
       "    </tr>\n",
       "  </thead>\n",
       "  <tbody>\n",
       "    <tr>\n",
       "      <th>0</th>\n",
       "      <td>489434</td>\n",
       "      <td>85048</td>\n",
       "      <td>15CM CHRISTMAS GLASS BALL 20 LIGHTS</td>\n",
       "      <td>12</td>\n",
       "      <td>2009-12-01 07:45:00</td>\n",
       "      <td>6.95</td>\n",
       "      <td>13085.0</td>\n",
       "      <td>United Kingdom</td>\n",
       "      <td>83.4</td>\n",
       "      <td>Tuesday</td>\n",
       "      <td>1</td>\n",
       "      <td>12</td>\n",
       "      <td>2009</td>\n",
       "      <td>7</td>\n",
       "    </tr>\n",
       "    <tr>\n",
       "      <th>1</th>\n",
       "      <td>489434</td>\n",
       "      <td>79323P</td>\n",
       "      <td>PINK CHERRY LIGHTS</td>\n",
       "      <td>12</td>\n",
       "      <td>2009-12-01 07:45:00</td>\n",
       "      <td>6.75</td>\n",
       "      <td>13085.0</td>\n",
       "      <td>United Kingdom</td>\n",
       "      <td>81.0</td>\n",
       "      <td>Tuesday</td>\n",
       "      <td>1</td>\n",
       "      <td>12</td>\n",
       "      <td>2009</td>\n",
       "      <td>7</td>\n",
       "    </tr>\n",
       "    <tr>\n",
       "      <th>2</th>\n",
       "      <td>489434</td>\n",
       "      <td>79323W</td>\n",
       "      <td>WHITE CHERRY LIGHTS</td>\n",
       "      <td>12</td>\n",
       "      <td>2009-12-01 07:45:00</td>\n",
       "      <td>6.75</td>\n",
       "      <td>13085.0</td>\n",
       "      <td>United Kingdom</td>\n",
       "      <td>81.0</td>\n",
       "      <td>Tuesday</td>\n",
       "      <td>1</td>\n",
       "      <td>12</td>\n",
       "      <td>2009</td>\n",
       "      <td>7</td>\n",
       "    </tr>\n",
       "    <tr>\n",
       "      <th>3</th>\n",
       "      <td>489434</td>\n",
       "      <td>22041</td>\n",
       "      <td>RECORD FRAME 7\" SINGLE SIZE</td>\n",
       "      <td>48</td>\n",
       "      <td>2009-12-01 07:45:00</td>\n",
       "      <td>2.10</td>\n",
       "      <td>13085.0</td>\n",
       "      <td>United Kingdom</td>\n",
       "      <td>100.8</td>\n",
       "      <td>Tuesday</td>\n",
       "      <td>1</td>\n",
       "      <td>12</td>\n",
       "      <td>2009</td>\n",
       "      <td>7</td>\n",
       "    </tr>\n",
       "    <tr>\n",
       "      <th>4</th>\n",
       "      <td>489434</td>\n",
       "      <td>21232</td>\n",
       "      <td>STRAWBERRY CERAMIC TRINKET BOX</td>\n",
       "      <td>24</td>\n",
       "      <td>2009-12-01 07:45:00</td>\n",
       "      <td>1.25</td>\n",
       "      <td>13085.0</td>\n",
       "      <td>United Kingdom</td>\n",
       "      <td>30.0</td>\n",
       "      <td>Tuesday</td>\n",
       "      <td>1</td>\n",
       "      <td>12</td>\n",
       "      <td>2009</td>\n",
       "      <td>7</td>\n",
       "    </tr>\n",
       "  </tbody>\n",
       "</table>\n",
       "</div>"
      ],
      "text/plain": [
       "  Invoice StockCode                          Description  Quantity  \\\n",
       "0  489434     85048  15CM CHRISTMAS GLASS BALL 20 LIGHTS        12   \n",
       "1  489434    79323P                   PINK CHERRY LIGHTS        12   \n",
       "2  489434    79323W                  WHITE CHERRY LIGHTS        12   \n",
       "3  489434     22041         RECORD FRAME 7\" SINGLE SIZE         48   \n",
       "4  489434     21232       STRAWBERRY CERAMIC TRINKET BOX        24   \n",
       "\n",
       "          InvoiceDate  Price  Customer ID         Country  Total Price  \\\n",
       "0 2009-12-01 07:45:00   6.95      13085.0  United Kingdom         83.4   \n",
       "1 2009-12-01 07:45:00   6.75      13085.0  United Kingdom         81.0   \n",
       "2 2009-12-01 07:45:00   6.75      13085.0  United Kingdom         81.0   \n",
       "3 2009-12-01 07:45:00   2.10      13085.0  United Kingdom        100.8   \n",
       "4 2009-12-01 07:45:00   1.25      13085.0  United Kingdom         30.0   \n",
       "\n",
       "  Day_Name  Day  Month  Year  Hour  \n",
       "0  Tuesday    1     12  2009     7  \n",
       "1  Tuesday    1     12  2009     7  \n",
       "2  Tuesday    1     12  2009     7  \n",
       "3  Tuesday    1     12  2009     7  \n",
       "4  Tuesday    1     12  2009     7  "
      ]
     },
     "execution_count": 442,
     "metadata": {},
     "output_type": "execute_result"
    }
   ],
   "source": [
    "df.head()"
   ]
  },
  {
   "cell_type": "code",
   "execution_count": 444,
   "id": "a2dd7a82-cb03-468a-8062-f7c63e7cd374",
   "metadata": {},
   "outputs": [
    {
     "data": {
      "text/html": [
       "<div>\n",
       "<style scoped>\n",
       "    .dataframe tbody tr th:only-of-type {\n",
       "        vertical-align: middle;\n",
       "    }\n",
       "\n",
       "    .dataframe tbody tr th {\n",
       "        vertical-align: top;\n",
       "    }\n",
       "\n",
       "    .dataframe thead th {\n",
       "        text-align: right;\n",
       "    }\n",
       "</style>\n",
       "<table border=\"1\" class=\"dataframe\">\n",
       "  <thead>\n",
       "    <tr style=\"text-align: right;\">\n",
       "      <th></th>\n",
       "      <th>Quantity</th>\n",
       "      <th>Price</th>\n",
       "      <th>Customer ID</th>\n",
       "      <th>Total Price</th>\n",
       "      <th>Day</th>\n",
       "      <th>Month</th>\n",
       "      <th>Year</th>\n",
       "      <th>Hour</th>\n",
       "    </tr>\n",
       "  </thead>\n",
       "  <tbody>\n",
       "    <tr>\n",
       "      <th>Quantity</th>\n",
       "      <td>1.000000</td>\n",
       "      <td>-0.005128</td>\n",
       "      <td>-0.014973</td>\n",
       "      <td>0.325236</td>\n",
       "      <td>0.000566</td>\n",
       "      <td>-0.011756</td>\n",
       "      <td>0.005960</td>\n",
       "      <td>-0.021429</td>\n",
       "    </tr>\n",
       "    <tr>\n",
       "      <th>Price</th>\n",
       "      <td>-0.005128</td>\n",
       "      <td>1.000000</td>\n",
       "      <td>-0.005874</td>\n",
       "      <td>0.699023</td>\n",
       "      <td>0.001062</td>\n",
       "      <td>-0.002041</td>\n",
       "      <td>-0.000099</td>\n",
       "      <td>0.003476</td>\n",
       "    </tr>\n",
       "    <tr>\n",
       "      <th>Customer ID</th>\n",
       "      <td>-0.014973</td>\n",
       "      <td>-0.005874</td>\n",
       "      <td>1.000000</td>\n",
       "      <td>-0.015820</td>\n",
       "      <td>-0.004570</td>\n",
       "      <td>0.036357</td>\n",
       "      <td>-0.018885</td>\n",
       "      <td>0.059639</td>\n",
       "    </tr>\n",
       "    <tr>\n",
       "      <th>Total Price</th>\n",
       "      <td>0.325236</td>\n",
       "      <td>0.699023</td>\n",
       "      <td>-0.015820</td>\n",
       "      <td>1.000000</td>\n",
       "      <td>-0.001483</td>\n",
       "      <td>-0.003265</td>\n",
       "      <td>0.004593</td>\n",
       "      <td>-0.028164</td>\n",
       "    </tr>\n",
       "    <tr>\n",
       "      <th>Day</th>\n",
       "      <td>0.000566</td>\n",
       "      <td>0.001062</td>\n",
       "      <td>-0.004570</td>\n",
       "      <td>-0.001483</td>\n",
       "      <td>1.000000</td>\n",
       "      <td>-0.166257</td>\n",
       "      <td>0.178401</td>\n",
       "      <td>-0.013839</td>\n",
       "    </tr>\n",
       "    <tr>\n",
       "      <th>Month</th>\n",
       "      <td>-0.011756</td>\n",
       "      <td>-0.002041</td>\n",
       "      <td>0.036357</td>\n",
       "      <td>-0.003265</td>\n",
       "      <td>-0.166257</td>\n",
       "      <td>1.000000</td>\n",
       "      <td>-0.393842</td>\n",
       "      <td>0.038627</td>\n",
       "    </tr>\n",
       "    <tr>\n",
       "      <th>Year</th>\n",
       "      <td>0.005960</td>\n",
       "      <td>-0.000099</td>\n",
       "      <td>-0.018885</td>\n",
       "      <td>0.004593</td>\n",
       "      <td>0.178401</td>\n",
       "      <td>-0.393842</td>\n",
       "      <td>1.000000</td>\n",
       "      <td>-0.060904</td>\n",
       "    </tr>\n",
       "    <tr>\n",
       "      <th>Hour</th>\n",
       "      <td>-0.021429</td>\n",
       "      <td>0.003476</td>\n",
       "      <td>0.059639</td>\n",
       "      <td>-0.028164</td>\n",
       "      <td>-0.013839</td>\n",
       "      <td>0.038627</td>\n",
       "      <td>-0.060904</td>\n",
       "      <td>1.000000</td>\n",
       "    </tr>\n",
       "  </tbody>\n",
       "</table>\n",
       "</div>"
      ],
      "text/plain": [
       "             Quantity     Price  Customer ID  Total Price       Day     Month  \\\n",
       "Quantity     1.000000 -0.005128    -0.014973     0.325236  0.000566 -0.011756   \n",
       "Price       -0.005128  1.000000    -0.005874     0.699023  0.001062 -0.002041   \n",
       "Customer ID -0.014973 -0.005874     1.000000    -0.015820 -0.004570  0.036357   \n",
       "Total Price  0.325236  0.699023    -0.015820     1.000000 -0.001483 -0.003265   \n",
       "Day          0.000566  0.001062    -0.004570    -0.001483  1.000000 -0.166257   \n",
       "Month       -0.011756 -0.002041     0.036357    -0.003265 -0.166257  1.000000   \n",
       "Year         0.005960 -0.000099    -0.018885     0.004593  0.178401 -0.393842   \n",
       "Hour        -0.021429  0.003476     0.059639    -0.028164 -0.013839  0.038627   \n",
       "\n",
       "                 Year      Hour  \n",
       "Quantity     0.005960 -0.021429  \n",
       "Price       -0.000099  0.003476  \n",
       "Customer ID -0.018885  0.059639  \n",
       "Total Price  0.004593 -0.028164  \n",
       "Day          0.178401 -0.013839  \n",
       "Month       -0.393842  0.038627  \n",
       "Year         1.000000 -0.060904  \n",
       "Hour        -0.060904  1.000000  "
      ]
     },
     "execution_count": 444,
     "metadata": {},
     "output_type": "execute_result"
    }
   ],
   "source": [
    "df.corr(numeric_only=True)"
   ]
  },
  {
   "cell_type": "code",
   "execution_count": 452,
   "id": "4b9a26fc-7a42-4bb5-838e-23fac45e007c",
   "metadata": {},
   "outputs": [
    {
     "data": {
      "text/plain": [
       "Hour          -0.028164\n",
       "Customer ID   -0.015820\n",
       "Month         -0.003265\n",
       "Day           -0.001483\n",
       "Year           0.004593\n",
       "Quantity       0.325236\n",
       "Price          0.699023\n",
       "Total Price    1.000000\n",
       "Name: Total Price, dtype: float64"
      ]
     },
     "execution_count": 452,
     "metadata": {},
     "output_type": "execute_result"
    }
   ],
   "source": [
    "df.corr(numeric_only=True)['Total Price'].sort_values()"
   ]
  },
  {
   "cell_type": "code",
   "execution_count": 458,
   "id": "cd6c7804-8498-486c-9d3b-057b31fb02fc",
   "metadata": {},
   "outputs": [],
   "source": [
    "df = df.dropna(subset=['Customer ID'])"
   ]
  },
  {
   "cell_type": "code",
   "execution_count": 460,
   "id": "f6866441-5f57-4969-b657-5b5943277575",
   "metadata": {},
   "outputs": [
    {
     "data": {
      "text/plain": [
       "407664"
      ]
     },
     "execution_count": 460,
     "metadata": {},
     "output_type": "execute_result"
    }
   ],
   "source": [
    "len(df)"
   ]
  },
  {
   "cell_type": "code",
   "execution_count": 464,
   "id": "02760170-3a16-4516-b7d0-4fed5f5bd5b7",
   "metadata": {},
   "outputs": [],
   "source": [
    "customer_df = df.groupby('Customer ID').agg({'Invoice':'nunique', 'Quantity': 'sum','Total Price': 'sum','InvoiceDate': ['min', 'max']})"
   ]
  },
  {
   "cell_type": "code",
   "execution_count": 470,
   "id": "53fd9f28-872a-40bb-b60d-497cbae30ca2",
   "metadata": {},
   "outputs": [],
   "source": [
    "customer_df.columns = ['NumOrders', 'TotalQuantity', 'TotalRevenue', 'FirstPurchase', 'LastPurchase']"
   ]
  },
  {
   "cell_type": "code",
   "execution_count": 474,
   "id": "edbafb1c-7c84-45ff-8024-76d4123a139f",
   "metadata": {},
   "outputs": [],
   "source": [
    "# Recency feature (days since last purchase)\n",
    "max_date = df['InvoiceDate'].max()\n",
    "customer_df['Recency'] = (max_date - customer_df['LastPurchase']).dt.days\n",
    "\n"
   ]
  },
  {
   "cell_type": "code",
   "execution_count": 476,
   "id": "db5ba2ad-1eca-4443-97b9-4cede05c6e48",
   "metadata": {},
   "outputs": [],
   "source": [
    "# Average basket size\n",
    "customer_df['AvgBasket'] = customer_df['TotalRevenue'] / customer_df['NumOrders']"
   ]
  },
  {
   "cell_type": "code",
   "execution_count": 478,
   "id": "74499ba7-ecd2-4821-9f3c-553d1993a8fd",
   "metadata": {},
   "outputs": [
    {
     "data": {
      "text/html": [
       "<div>\n",
       "<style scoped>\n",
       "    .dataframe tbody tr th:only-of-type {\n",
       "        vertical-align: middle;\n",
       "    }\n",
       "\n",
       "    .dataframe tbody tr th {\n",
       "        vertical-align: top;\n",
       "    }\n",
       "\n",
       "    .dataframe thead th {\n",
       "        text-align: right;\n",
       "    }\n",
       "</style>\n",
       "<table border=\"1\" class=\"dataframe\">\n",
       "  <thead>\n",
       "    <tr style=\"text-align: right;\">\n",
       "      <th></th>\n",
       "      <th>NumOrders</th>\n",
       "      <th>TotalQuantity</th>\n",
       "      <th>TotalRevenue</th>\n",
       "      <th>FirstPurchase</th>\n",
       "      <th>LastPurchase</th>\n",
       "      <th>Recency</th>\n",
       "      <th>AvgBasket</th>\n",
       "    </tr>\n",
       "    <tr>\n",
       "      <th>Customer ID</th>\n",
       "      <th></th>\n",
       "      <th></th>\n",
       "      <th></th>\n",
       "      <th></th>\n",
       "      <th></th>\n",
       "      <th></th>\n",
       "      <th></th>\n",
       "    </tr>\n",
       "  </thead>\n",
       "  <tbody>\n",
       "    <tr>\n",
       "      <th>12346.0</th>\n",
       "      <td>11</td>\n",
       "      <td>70</td>\n",
       "      <td>372.86</td>\n",
       "      <td>2009-12-14 08:34:00</td>\n",
       "      <td>2010-06-28 13:53:00</td>\n",
       "      <td>164</td>\n",
       "      <td>33.896364</td>\n",
       "    </tr>\n",
       "    <tr>\n",
       "      <th>12347.0</th>\n",
       "      <td>2</td>\n",
       "      <td>828</td>\n",
       "      <td>1323.32</td>\n",
       "      <td>2010-10-31 14:20:00</td>\n",
       "      <td>2010-12-07 14:57:00</td>\n",
       "      <td>2</td>\n",
       "      <td>661.660000</td>\n",
       "    </tr>\n",
       "    <tr>\n",
       "      <th>12348.0</th>\n",
       "      <td>1</td>\n",
       "      <td>373</td>\n",
       "      <td>222.16</td>\n",
       "      <td>2010-09-27 14:59:00</td>\n",
       "      <td>2010-09-27 14:59:00</td>\n",
       "      <td>73</td>\n",
       "      <td>222.160000</td>\n",
       "    </tr>\n",
       "    <tr>\n",
       "      <th>12349.0</th>\n",
       "      <td>3</td>\n",
       "      <td>993</td>\n",
       "      <td>2671.14</td>\n",
       "      <td>2010-04-29 13:20:00</td>\n",
       "      <td>2010-10-28 08:23:00</td>\n",
       "      <td>42</td>\n",
       "      <td>890.380000</td>\n",
       "    </tr>\n",
       "    <tr>\n",
       "      <th>12351.0</th>\n",
       "      <td>1</td>\n",
       "      <td>261</td>\n",
       "      <td>300.93</td>\n",
       "      <td>2010-11-29 15:23:00</td>\n",
       "      <td>2010-11-29 15:23:00</td>\n",
       "      <td>10</td>\n",
       "      <td>300.930000</td>\n",
       "    </tr>\n",
       "    <tr>\n",
       "      <th>...</th>\n",
       "      <td>...</td>\n",
       "      <td>...</td>\n",
       "      <td>...</td>\n",
       "      <td>...</td>\n",
       "      <td>...</td>\n",
       "      <td>...</td>\n",
       "      <td>...</td>\n",
       "    </tr>\n",
       "    <tr>\n",
       "      <th>18283.0</th>\n",
       "      <td>6</td>\n",
       "      <td>336</td>\n",
       "      <td>641.77</td>\n",
       "      <td>2010-02-19 17:16:00</td>\n",
       "      <td>2010-11-22 15:30:00</td>\n",
       "      <td>17</td>\n",
       "      <td>106.961667</td>\n",
       "    </tr>\n",
       "    <tr>\n",
       "      <th>18284.0</th>\n",
       "      <td>1</td>\n",
       "      <td>494</td>\n",
       "      <td>461.68</td>\n",
       "      <td>2010-10-04 11:33:00</td>\n",
       "      <td>2010-10-04 11:33:00</td>\n",
       "      <td>66</td>\n",
       "      <td>461.680000</td>\n",
       "    </tr>\n",
       "    <tr>\n",
       "      <th>18285.0</th>\n",
       "      <td>1</td>\n",
       "      <td>145</td>\n",
       "      <td>427.00</td>\n",
       "      <td>2010-02-17 10:24:00</td>\n",
       "      <td>2010-02-17 10:24:00</td>\n",
       "      <td>295</td>\n",
       "      <td>427.000000</td>\n",
       "    </tr>\n",
       "    <tr>\n",
       "      <th>18286.0</th>\n",
       "      <td>2</td>\n",
       "      <td>608</td>\n",
       "      <td>1296.43</td>\n",
       "      <td>2009-12-16 10:45:00</td>\n",
       "      <td>2010-08-20 11:57:00</td>\n",
       "      <td>111</td>\n",
       "      <td>648.215000</td>\n",
       "    </tr>\n",
       "    <tr>\n",
       "      <th>18287.0</th>\n",
       "      <td>4</td>\n",
       "      <td>1427</td>\n",
       "      <td>2345.71</td>\n",
       "      <td>2010-05-17 11:55:00</td>\n",
       "      <td>2010-11-22 11:51:00</td>\n",
       "      <td>17</td>\n",
       "      <td>586.427500</td>\n",
       "    </tr>\n",
       "  </tbody>\n",
       "</table>\n",
       "<p>4312 rows × 7 columns</p>\n",
       "</div>"
      ],
      "text/plain": [
       "             NumOrders  TotalQuantity  TotalRevenue       FirstPurchase  \\\n",
       "Customer ID                                                               \n",
       "12346.0             11             70        372.86 2009-12-14 08:34:00   \n",
       "12347.0              2            828       1323.32 2010-10-31 14:20:00   \n",
       "12348.0              1            373        222.16 2010-09-27 14:59:00   \n",
       "12349.0              3            993       2671.14 2010-04-29 13:20:00   \n",
       "12351.0              1            261        300.93 2010-11-29 15:23:00   \n",
       "...                ...            ...           ...                 ...   \n",
       "18283.0              6            336        641.77 2010-02-19 17:16:00   \n",
       "18284.0              1            494        461.68 2010-10-04 11:33:00   \n",
       "18285.0              1            145        427.00 2010-02-17 10:24:00   \n",
       "18286.0              2            608       1296.43 2009-12-16 10:45:00   \n",
       "18287.0              4           1427       2345.71 2010-05-17 11:55:00   \n",
       "\n",
       "                   LastPurchase  Recency   AvgBasket  \n",
       "Customer ID                                           \n",
       "12346.0     2010-06-28 13:53:00      164   33.896364  \n",
       "12347.0     2010-12-07 14:57:00        2  661.660000  \n",
       "12348.0     2010-09-27 14:59:00       73  222.160000  \n",
       "12349.0     2010-10-28 08:23:00       42  890.380000  \n",
       "12351.0     2010-11-29 15:23:00       10  300.930000  \n",
       "...                         ...      ...         ...  \n",
       "18283.0     2010-11-22 15:30:00       17  106.961667  \n",
       "18284.0     2010-10-04 11:33:00       66  461.680000  \n",
       "18285.0     2010-02-17 10:24:00      295  427.000000  \n",
       "18286.0     2010-08-20 11:57:00      111  648.215000  \n",
       "18287.0     2010-11-22 11:51:00       17  586.427500  \n",
       "\n",
       "[4312 rows x 7 columns]"
      ]
     },
     "execution_count": 478,
     "metadata": {},
     "output_type": "execute_result"
    }
   ],
   "source": [
    "\n",
    "customer_df\n"
   ]
  },
  {
   "cell_type": "code",
   "execution_count": 480,
   "id": "c9c2aa56-692a-4184-9f8f-dbfb445917e8",
   "metadata": {},
   "outputs": [],
   "source": [
    "from sklearn.model_selection import train_test_split\n",
    "from sklearn.linear_model import LinearRegression\n",
    "from sklearn.metrics import mean_squared_error, r2_score"
   ]
  },
  {
   "cell_type": "code",
   "execution_count": 494,
   "id": "dd8d0c79-e083-4e22-b0d0-3ac3d05d4e00",
   "metadata": {},
   "outputs": [],
   "source": [
    "X= customer_df.drop(['FirstPurchase','LastPurchase','TotalRevenue'],axis=1)"
   ]
  },
  {
   "cell_type": "code",
   "execution_count": 496,
   "id": "01b3113d-7a8a-4a30-ab3e-368a643266ae",
   "metadata": {},
   "outputs": [],
   "source": [
    "y=customer_df['TotalRevenue']"
   ]
  },
  {
   "cell_type": "code",
   "execution_count": 498,
   "id": "82f1731f-1aff-4c14-b455-47d57c890850",
   "metadata": {},
   "outputs": [],
   "source": [
    "model = LinearRegression()"
   ]
  },
  {
   "cell_type": "code",
   "execution_count": 500,
   "id": "01b96a24-d4cf-4448-af17-95bcd8696e65",
   "metadata": {},
   "outputs": [],
   "source": [
    "X_train, X_test, y_train, y_test = train_test_split(X, y, test_size=0.3, random_state=101)"
   ]
  },
  {
   "cell_type": "code",
   "execution_count": 502,
   "id": "e2424229-05d0-40b0-8abf-18aa3d4c791d",
   "metadata": {},
   "outputs": [
    {
     "data": {
      "text/html": [
       "<style>#sk-container-id-1 {\n",
       "  /* Definition of color scheme common for light and dark mode */\n",
       "  --sklearn-color-text: #000;\n",
       "  --sklearn-color-text-muted: #666;\n",
       "  --sklearn-color-line: gray;\n",
       "  /* Definition of color scheme for unfitted estimators */\n",
       "  --sklearn-color-unfitted-level-0: #fff5e6;\n",
       "  --sklearn-color-unfitted-level-1: #f6e4d2;\n",
       "  --sklearn-color-unfitted-level-2: #ffe0b3;\n",
       "  --sklearn-color-unfitted-level-3: chocolate;\n",
       "  /* Definition of color scheme for fitted estimators */\n",
       "  --sklearn-color-fitted-level-0: #f0f8ff;\n",
       "  --sklearn-color-fitted-level-1: #d4ebff;\n",
       "  --sklearn-color-fitted-level-2: #b3dbfd;\n",
       "  --sklearn-color-fitted-level-3: cornflowerblue;\n",
       "\n",
       "  /* Specific color for light theme */\n",
       "  --sklearn-color-text-on-default-background: var(--sg-text-color, var(--theme-code-foreground, var(--jp-content-font-color1, black)));\n",
       "  --sklearn-color-background: var(--sg-background-color, var(--theme-background, var(--jp-layout-color0, white)));\n",
       "  --sklearn-color-border-box: var(--sg-text-color, var(--theme-code-foreground, var(--jp-content-font-color1, black)));\n",
       "  --sklearn-color-icon: #696969;\n",
       "\n",
       "  @media (prefers-color-scheme: dark) {\n",
       "    /* Redefinition of color scheme for dark theme */\n",
       "    --sklearn-color-text-on-default-background: var(--sg-text-color, var(--theme-code-foreground, var(--jp-content-font-color1, white)));\n",
       "    --sklearn-color-background: var(--sg-background-color, var(--theme-background, var(--jp-layout-color0, #111)));\n",
       "    --sklearn-color-border-box: var(--sg-text-color, var(--theme-code-foreground, var(--jp-content-font-color1, white)));\n",
       "    --sklearn-color-icon: #878787;\n",
       "  }\n",
       "}\n",
       "\n",
       "#sk-container-id-1 {\n",
       "  color: var(--sklearn-color-text);\n",
       "}\n",
       "\n",
       "#sk-container-id-1 pre {\n",
       "  padding: 0;\n",
       "}\n",
       "\n",
       "#sk-container-id-1 input.sk-hidden--visually {\n",
       "  border: 0;\n",
       "  clip: rect(1px 1px 1px 1px);\n",
       "  clip: rect(1px, 1px, 1px, 1px);\n",
       "  height: 1px;\n",
       "  margin: -1px;\n",
       "  overflow: hidden;\n",
       "  padding: 0;\n",
       "  position: absolute;\n",
       "  width: 1px;\n",
       "}\n",
       "\n",
       "#sk-container-id-1 div.sk-dashed-wrapped {\n",
       "  border: 1px dashed var(--sklearn-color-line);\n",
       "  margin: 0 0.4em 0.5em 0.4em;\n",
       "  box-sizing: border-box;\n",
       "  padding-bottom: 0.4em;\n",
       "  background-color: var(--sklearn-color-background);\n",
       "}\n",
       "\n",
       "#sk-container-id-1 div.sk-container {\n",
       "  /* jupyter's `normalize.less` sets `[hidden] { display: none; }`\n",
       "     but bootstrap.min.css set `[hidden] { display: none !important; }`\n",
       "     so we also need the `!important` here to be able to override the\n",
       "     default hidden behavior on the sphinx rendered scikit-learn.org.\n",
       "     See: https://github.com/scikit-learn/scikit-learn/issues/21755 */\n",
       "  display: inline-block !important;\n",
       "  position: relative;\n",
       "}\n",
       "\n",
       "#sk-container-id-1 div.sk-text-repr-fallback {\n",
       "  display: none;\n",
       "}\n",
       "\n",
       "div.sk-parallel-item,\n",
       "div.sk-serial,\n",
       "div.sk-item {\n",
       "  /* draw centered vertical line to link estimators */\n",
       "  background-image: linear-gradient(var(--sklearn-color-text-on-default-background), var(--sklearn-color-text-on-default-background));\n",
       "  background-size: 2px 100%;\n",
       "  background-repeat: no-repeat;\n",
       "  background-position: center center;\n",
       "}\n",
       "\n",
       "/* Parallel-specific style estimator block */\n",
       "\n",
       "#sk-container-id-1 div.sk-parallel-item::after {\n",
       "  content: \"\";\n",
       "  width: 100%;\n",
       "  border-bottom: 2px solid var(--sklearn-color-text-on-default-background);\n",
       "  flex-grow: 1;\n",
       "}\n",
       "\n",
       "#sk-container-id-1 div.sk-parallel {\n",
       "  display: flex;\n",
       "  align-items: stretch;\n",
       "  justify-content: center;\n",
       "  background-color: var(--sklearn-color-background);\n",
       "  position: relative;\n",
       "}\n",
       "\n",
       "#sk-container-id-1 div.sk-parallel-item {\n",
       "  display: flex;\n",
       "  flex-direction: column;\n",
       "}\n",
       "\n",
       "#sk-container-id-1 div.sk-parallel-item:first-child::after {\n",
       "  align-self: flex-end;\n",
       "  width: 50%;\n",
       "}\n",
       "\n",
       "#sk-container-id-1 div.sk-parallel-item:last-child::after {\n",
       "  align-self: flex-start;\n",
       "  width: 50%;\n",
       "}\n",
       "\n",
       "#sk-container-id-1 div.sk-parallel-item:only-child::after {\n",
       "  width: 0;\n",
       "}\n",
       "\n",
       "/* Serial-specific style estimator block */\n",
       "\n",
       "#sk-container-id-1 div.sk-serial {\n",
       "  display: flex;\n",
       "  flex-direction: column;\n",
       "  align-items: center;\n",
       "  background-color: var(--sklearn-color-background);\n",
       "  padding-right: 1em;\n",
       "  padding-left: 1em;\n",
       "}\n",
       "\n",
       "\n",
       "/* Toggleable style: style used for estimator/Pipeline/ColumnTransformer box that is\n",
       "clickable and can be expanded/collapsed.\n",
       "- Pipeline and ColumnTransformer use this feature and define the default style\n",
       "- Estimators will overwrite some part of the style using the `sk-estimator` class\n",
       "*/\n",
       "\n",
       "/* Pipeline and ColumnTransformer style (default) */\n",
       "\n",
       "#sk-container-id-1 div.sk-toggleable {\n",
       "  /* Default theme specific background. It is overwritten whether we have a\n",
       "  specific estimator or a Pipeline/ColumnTransformer */\n",
       "  background-color: var(--sklearn-color-background);\n",
       "}\n",
       "\n",
       "/* Toggleable label */\n",
       "#sk-container-id-1 label.sk-toggleable__label {\n",
       "  cursor: pointer;\n",
       "  display: flex;\n",
       "  width: 100%;\n",
       "  margin-bottom: 0;\n",
       "  padding: 0.5em;\n",
       "  box-sizing: border-box;\n",
       "  text-align: center;\n",
       "  align-items: start;\n",
       "  justify-content: space-between;\n",
       "  gap: 0.5em;\n",
       "}\n",
       "\n",
       "#sk-container-id-1 label.sk-toggleable__label .caption {\n",
       "  font-size: 0.6rem;\n",
       "  font-weight: lighter;\n",
       "  color: var(--sklearn-color-text-muted);\n",
       "}\n",
       "\n",
       "#sk-container-id-1 label.sk-toggleable__label-arrow:before {\n",
       "  /* Arrow on the left of the label */\n",
       "  content: \"▸\";\n",
       "  float: left;\n",
       "  margin-right: 0.25em;\n",
       "  color: var(--sklearn-color-icon);\n",
       "}\n",
       "\n",
       "#sk-container-id-1 label.sk-toggleable__label-arrow:hover:before {\n",
       "  color: var(--sklearn-color-text);\n",
       "}\n",
       "\n",
       "/* Toggleable content - dropdown */\n",
       "\n",
       "#sk-container-id-1 div.sk-toggleable__content {\n",
       "  max-height: 0;\n",
       "  max-width: 0;\n",
       "  overflow: hidden;\n",
       "  text-align: left;\n",
       "  /* unfitted */\n",
       "  background-color: var(--sklearn-color-unfitted-level-0);\n",
       "}\n",
       "\n",
       "#sk-container-id-1 div.sk-toggleable__content.fitted {\n",
       "  /* fitted */\n",
       "  background-color: var(--sklearn-color-fitted-level-0);\n",
       "}\n",
       "\n",
       "#sk-container-id-1 div.sk-toggleable__content pre {\n",
       "  margin: 0.2em;\n",
       "  border-radius: 0.25em;\n",
       "  color: var(--sklearn-color-text);\n",
       "  /* unfitted */\n",
       "  background-color: var(--sklearn-color-unfitted-level-0);\n",
       "}\n",
       "\n",
       "#sk-container-id-1 div.sk-toggleable__content.fitted pre {\n",
       "  /* unfitted */\n",
       "  background-color: var(--sklearn-color-fitted-level-0);\n",
       "}\n",
       "\n",
       "#sk-container-id-1 input.sk-toggleable__control:checked~div.sk-toggleable__content {\n",
       "  /* Expand drop-down */\n",
       "  max-height: 200px;\n",
       "  max-width: 100%;\n",
       "  overflow: auto;\n",
       "}\n",
       "\n",
       "#sk-container-id-1 input.sk-toggleable__control:checked~label.sk-toggleable__label-arrow:before {\n",
       "  content: \"▾\";\n",
       "}\n",
       "\n",
       "/* Pipeline/ColumnTransformer-specific style */\n",
       "\n",
       "#sk-container-id-1 div.sk-label input.sk-toggleable__control:checked~label.sk-toggleable__label {\n",
       "  color: var(--sklearn-color-text);\n",
       "  background-color: var(--sklearn-color-unfitted-level-2);\n",
       "}\n",
       "\n",
       "#sk-container-id-1 div.sk-label.fitted input.sk-toggleable__control:checked~label.sk-toggleable__label {\n",
       "  background-color: var(--sklearn-color-fitted-level-2);\n",
       "}\n",
       "\n",
       "/* Estimator-specific style */\n",
       "\n",
       "/* Colorize estimator box */\n",
       "#sk-container-id-1 div.sk-estimator input.sk-toggleable__control:checked~label.sk-toggleable__label {\n",
       "  /* unfitted */\n",
       "  background-color: var(--sklearn-color-unfitted-level-2);\n",
       "}\n",
       "\n",
       "#sk-container-id-1 div.sk-estimator.fitted input.sk-toggleable__control:checked~label.sk-toggleable__label {\n",
       "  /* fitted */\n",
       "  background-color: var(--sklearn-color-fitted-level-2);\n",
       "}\n",
       "\n",
       "#sk-container-id-1 div.sk-label label.sk-toggleable__label,\n",
       "#sk-container-id-1 div.sk-label label {\n",
       "  /* The background is the default theme color */\n",
       "  color: var(--sklearn-color-text-on-default-background);\n",
       "}\n",
       "\n",
       "/* On hover, darken the color of the background */\n",
       "#sk-container-id-1 div.sk-label:hover label.sk-toggleable__label {\n",
       "  color: var(--sklearn-color-text);\n",
       "  background-color: var(--sklearn-color-unfitted-level-2);\n",
       "}\n",
       "\n",
       "/* Label box, darken color on hover, fitted */\n",
       "#sk-container-id-1 div.sk-label.fitted:hover label.sk-toggleable__label.fitted {\n",
       "  color: var(--sklearn-color-text);\n",
       "  background-color: var(--sklearn-color-fitted-level-2);\n",
       "}\n",
       "\n",
       "/* Estimator label */\n",
       "\n",
       "#sk-container-id-1 div.sk-label label {\n",
       "  font-family: monospace;\n",
       "  font-weight: bold;\n",
       "  display: inline-block;\n",
       "  line-height: 1.2em;\n",
       "}\n",
       "\n",
       "#sk-container-id-1 div.sk-label-container {\n",
       "  text-align: center;\n",
       "}\n",
       "\n",
       "/* Estimator-specific */\n",
       "#sk-container-id-1 div.sk-estimator {\n",
       "  font-family: monospace;\n",
       "  border: 1px dotted var(--sklearn-color-border-box);\n",
       "  border-radius: 0.25em;\n",
       "  box-sizing: border-box;\n",
       "  margin-bottom: 0.5em;\n",
       "  /* unfitted */\n",
       "  background-color: var(--sklearn-color-unfitted-level-0);\n",
       "}\n",
       "\n",
       "#sk-container-id-1 div.sk-estimator.fitted {\n",
       "  /* fitted */\n",
       "  background-color: var(--sklearn-color-fitted-level-0);\n",
       "}\n",
       "\n",
       "/* on hover */\n",
       "#sk-container-id-1 div.sk-estimator:hover {\n",
       "  /* unfitted */\n",
       "  background-color: var(--sklearn-color-unfitted-level-2);\n",
       "}\n",
       "\n",
       "#sk-container-id-1 div.sk-estimator.fitted:hover {\n",
       "  /* fitted */\n",
       "  background-color: var(--sklearn-color-fitted-level-2);\n",
       "}\n",
       "\n",
       "/* Specification for estimator info (e.g. \"i\" and \"?\") */\n",
       "\n",
       "/* Common style for \"i\" and \"?\" */\n",
       "\n",
       ".sk-estimator-doc-link,\n",
       "a:link.sk-estimator-doc-link,\n",
       "a:visited.sk-estimator-doc-link {\n",
       "  float: right;\n",
       "  font-size: smaller;\n",
       "  line-height: 1em;\n",
       "  font-family: monospace;\n",
       "  background-color: var(--sklearn-color-background);\n",
       "  border-radius: 1em;\n",
       "  height: 1em;\n",
       "  width: 1em;\n",
       "  text-decoration: none !important;\n",
       "  margin-left: 0.5em;\n",
       "  text-align: center;\n",
       "  /* unfitted */\n",
       "  border: var(--sklearn-color-unfitted-level-1) 1pt solid;\n",
       "  color: var(--sklearn-color-unfitted-level-1);\n",
       "}\n",
       "\n",
       ".sk-estimator-doc-link.fitted,\n",
       "a:link.sk-estimator-doc-link.fitted,\n",
       "a:visited.sk-estimator-doc-link.fitted {\n",
       "  /* fitted */\n",
       "  border: var(--sklearn-color-fitted-level-1) 1pt solid;\n",
       "  color: var(--sklearn-color-fitted-level-1);\n",
       "}\n",
       "\n",
       "/* On hover */\n",
       "div.sk-estimator:hover .sk-estimator-doc-link:hover,\n",
       ".sk-estimator-doc-link:hover,\n",
       "div.sk-label-container:hover .sk-estimator-doc-link:hover,\n",
       ".sk-estimator-doc-link:hover {\n",
       "  /* unfitted */\n",
       "  background-color: var(--sklearn-color-unfitted-level-3);\n",
       "  color: var(--sklearn-color-background);\n",
       "  text-decoration: none;\n",
       "}\n",
       "\n",
       "div.sk-estimator.fitted:hover .sk-estimator-doc-link.fitted:hover,\n",
       ".sk-estimator-doc-link.fitted:hover,\n",
       "div.sk-label-container:hover .sk-estimator-doc-link.fitted:hover,\n",
       ".sk-estimator-doc-link.fitted:hover {\n",
       "  /* fitted */\n",
       "  background-color: var(--sklearn-color-fitted-level-3);\n",
       "  color: var(--sklearn-color-background);\n",
       "  text-decoration: none;\n",
       "}\n",
       "\n",
       "/* Span, style for the box shown on hovering the info icon */\n",
       ".sk-estimator-doc-link span {\n",
       "  display: none;\n",
       "  z-index: 9999;\n",
       "  position: relative;\n",
       "  font-weight: normal;\n",
       "  right: .2ex;\n",
       "  padding: .5ex;\n",
       "  margin: .5ex;\n",
       "  width: min-content;\n",
       "  min-width: 20ex;\n",
       "  max-width: 50ex;\n",
       "  color: var(--sklearn-color-text);\n",
       "  box-shadow: 2pt 2pt 4pt #999;\n",
       "  /* unfitted */\n",
       "  background: var(--sklearn-color-unfitted-level-0);\n",
       "  border: .5pt solid var(--sklearn-color-unfitted-level-3);\n",
       "}\n",
       "\n",
       ".sk-estimator-doc-link.fitted span {\n",
       "  /* fitted */\n",
       "  background: var(--sklearn-color-fitted-level-0);\n",
       "  border: var(--sklearn-color-fitted-level-3);\n",
       "}\n",
       "\n",
       ".sk-estimator-doc-link:hover span {\n",
       "  display: block;\n",
       "}\n",
       "\n",
       "/* \"?\"-specific style due to the `<a>` HTML tag */\n",
       "\n",
       "#sk-container-id-1 a.estimator_doc_link {\n",
       "  float: right;\n",
       "  font-size: 1rem;\n",
       "  line-height: 1em;\n",
       "  font-family: monospace;\n",
       "  background-color: var(--sklearn-color-background);\n",
       "  border-radius: 1rem;\n",
       "  height: 1rem;\n",
       "  width: 1rem;\n",
       "  text-decoration: none;\n",
       "  /* unfitted */\n",
       "  color: var(--sklearn-color-unfitted-level-1);\n",
       "  border: var(--sklearn-color-unfitted-level-1) 1pt solid;\n",
       "}\n",
       "\n",
       "#sk-container-id-1 a.estimator_doc_link.fitted {\n",
       "  /* fitted */\n",
       "  border: var(--sklearn-color-fitted-level-1) 1pt solid;\n",
       "  color: var(--sklearn-color-fitted-level-1);\n",
       "}\n",
       "\n",
       "/* On hover */\n",
       "#sk-container-id-1 a.estimator_doc_link:hover {\n",
       "  /* unfitted */\n",
       "  background-color: var(--sklearn-color-unfitted-level-3);\n",
       "  color: var(--sklearn-color-background);\n",
       "  text-decoration: none;\n",
       "}\n",
       "\n",
       "#sk-container-id-1 a.estimator_doc_link.fitted:hover {\n",
       "  /* fitted */\n",
       "  background-color: var(--sklearn-color-fitted-level-3);\n",
       "}\n",
       "</style><div id=\"sk-container-id-1\" class=\"sk-top-container\"><div class=\"sk-text-repr-fallback\"><pre>LinearRegression()</pre><b>In a Jupyter environment, please rerun this cell to show the HTML representation or trust the notebook. <br />On GitHub, the HTML representation is unable to render, please try loading this page with nbviewer.org.</b></div><div class=\"sk-container\" hidden><div class=\"sk-item\"><div class=\"sk-estimator fitted sk-toggleable\"><input class=\"sk-toggleable__control sk-hidden--visually\" id=\"sk-estimator-id-1\" type=\"checkbox\" checked><label for=\"sk-estimator-id-1\" class=\"sk-toggleable__label fitted sk-toggleable__label-arrow\"><div><div>LinearRegression</div></div><div><a class=\"sk-estimator-doc-link fitted\" rel=\"noreferrer\" target=\"_blank\" href=\"https://scikit-learn.org/1.6/modules/generated/sklearn.linear_model.LinearRegression.html\">?<span>Documentation for LinearRegression</span></a><span class=\"sk-estimator-doc-link fitted\">i<span>Fitted</span></span></div></label><div class=\"sk-toggleable__content fitted\"><pre>LinearRegression()</pre></div> </div></div></div></div>"
      ],
      "text/plain": [
       "LinearRegression()"
      ]
     },
     "execution_count": 502,
     "metadata": {},
     "output_type": "execute_result"
    }
   ],
   "source": [
    "model.fit(X_train,y_train)"
   ]
  },
  {
   "cell_type": "code",
   "execution_count": 504,
   "id": "fb019a96-f5ac-4256-8a8a-2ae651882a69",
   "metadata": {},
   "outputs": [],
   "source": [
    "y_pred = model.predict(X_test)"
   ]
  },
  {
   "cell_type": "code",
   "execution_count": 508,
   "id": "ef945417-bc33-4690-8ea7-3b17ad6a6361",
   "metadata": {},
   "outputs": [
    {
     "data": {
      "text/plain": [
       "np.float64(3084.4217107373574)"
      ]
     },
     "execution_count": 508,
     "metadata": {},
     "output_type": "execute_result"
    }
   ],
   "source": [
    "MSE = mean_squared_error(y_test,y_pred)\n",
    "np.sqrt(MSE)"
   ]
  },
  {
   "cell_type": "code",
   "execution_count": 510,
   "id": "3c734700-1f0b-4d45-9345-270e2585f9aa",
   "metadata": {},
   "outputs": [
    {
     "name": "stdout",
     "output_type": "stream",
     "text": [
      "R2 Score: 0.8345595725331347\n",
      "RMSE: 3084.4217107373574\n"
     ]
    }
   ],
   "source": [
    "print(\"R2 Score:\", r2_score(y_test, y_pred))\n",
    "print(\"RMSE:\", np.sqrt(mean_squared_error(y_test, y_pred)))"
   ]
  },
  {
   "cell_type": "code",
   "execution_count": 512,
   "id": "972a39ec-b42f-4fed-b61e-8665ea5429d0",
   "metadata": {},
   "outputs": [],
   "source": [
    "from sklearn.linear_model import ElasticNet"
   ]
  },
  {
   "cell_type": "code",
   "execution_count": 514,
   "id": "5d72cd74-ea7d-4dba-be1c-5aec9eb50139",
   "metadata": {},
   "outputs": [],
   "source": [
    "elastic_model = ElasticNet()"
   ]
  },
  {
   "cell_type": "code",
   "execution_count": 516,
   "id": "43ab8723-ea82-47fd-b518-28440e966765",
   "metadata": {},
   "outputs": [],
   "source": [
    "from sklearn.model_selection import GridSearchCV"
   ]
  },
  {
   "cell_type": "code",
   "execution_count": 520,
   "id": "56a692dd-0b21-4f57-89c5-3a229e27bdd8",
   "metadata": {},
   "outputs": [],
   "source": [
    "param_grid = {'alpha':[0.1,.3,.5,.7,.8,.1],'l1_ratio':[0.01,0.1,1,10,100]}"
   ]
  },
  {
   "cell_type": "code",
   "execution_count": 522,
   "id": "f1f2afcf-beac-44f7-a77c-562c150800db",
   "metadata": {},
   "outputs": [],
   "source": [
    "gridModel = GridSearchCV(elastic_model,param_grid=param_grid,scoring='neg_mean_squared_error',verbose=2,cv=5)"
   ]
  },
  {
   "cell_type": "code",
   "execution_count": 524,
   "id": "907faeb8-1f59-42ac-a907-f5ae3b7521a7",
   "metadata": {},
   "outputs": [
    {
     "name": "stdout",
     "output_type": "stream",
     "text": [
      "Fitting 5 folds for each of 30 candidates, totalling 150 fits\n",
      "[CV] END ...........................alpha=0.1, l1_ratio=0.01; total time=   0.0s\n",
      "[CV] END ...........................alpha=0.1, l1_ratio=0.01; total time=   0.0s\n",
      "[CV] END ...........................alpha=0.1, l1_ratio=0.01; total time=   0.0s\n",
      "[CV] END ...........................alpha=0.1, l1_ratio=0.01; total time=   0.0s\n",
      "[CV] END ...........................alpha=0.1, l1_ratio=0.01; total time=   0.0s\n",
      "[CV] END ............................alpha=0.1, l1_ratio=0.1; total time=   0.0s\n",
      "[CV] END ............................alpha=0.1, l1_ratio=0.1; total time=   0.0s\n",
      "[CV] END ............................alpha=0.1, l1_ratio=0.1; total time=   0.0s\n",
      "[CV] END ............................alpha=0.1, l1_ratio=0.1; total time=   0.0s\n",
      "[CV] END ............................alpha=0.1, l1_ratio=0.1; total time=   0.0s\n",
      "[CV] END ..............................alpha=0.1, l1_ratio=1; total time=   0.0s\n",
      "[CV] END ..............................alpha=0.1, l1_ratio=1; total time=   0.0s\n",
      "[CV] END ..............................alpha=0.1, l1_ratio=1; total time=   0.0s\n",
      "[CV] END ..............................alpha=0.1, l1_ratio=1; total time=   0.0s\n",
      "[CV] END ..............................alpha=0.1, l1_ratio=1; total time=   0.0s\n",
      "[CV] END .............................alpha=0.1, l1_ratio=10; total time=   0.0s\n",
      "[CV] END .............................alpha=0.1, l1_ratio=10; total time=   0.0s\n",
      "[CV] END .............................alpha=0.1, l1_ratio=10; total time=   0.0s\n",
      "[CV] END .............................alpha=0.1, l1_ratio=10; total time=   0.0s\n",
      "[CV] END .............................alpha=0.1, l1_ratio=10; total time=   0.0s\n",
      "[CV] END ............................alpha=0.1, l1_ratio=100; total time=   0.0s\n",
      "[CV] END ............................alpha=0.1, l1_ratio=100; total time=   0.0s\n",
      "[CV] END ............................alpha=0.1, l1_ratio=100; total time=   0.0s\n",
      "[CV] END ............................alpha=0.1, l1_ratio=100; total time=   0.0s\n",
      "[CV] END ............................alpha=0.1, l1_ratio=100; total time=   0.0s\n",
      "[CV] END ...........................alpha=0.3, l1_ratio=0.01; total time=   0.0s\n",
      "[CV] END ...........................alpha=0.3, l1_ratio=0.01; total time=   0.0s\n",
      "[CV] END ...........................alpha=0.3, l1_ratio=0.01; total time=   0.0s\n",
      "[CV] END ...........................alpha=0.3, l1_ratio=0.01; total time=   0.0s\n",
      "[CV] END ...........................alpha=0.3, l1_ratio=0.01; total time=   0.0s\n",
      "[CV] END ............................alpha=0.3, l1_ratio=0.1; total time=   0.0s\n",
      "[CV] END ............................alpha=0.3, l1_ratio=0.1; total time=   0.0s\n",
      "[CV] END ............................alpha=0.3, l1_ratio=0.1; total time=   0.0s\n",
      "[CV] END ............................alpha=0.3, l1_ratio=0.1; total time=   0.0s\n",
      "[CV] END ............................alpha=0.3, l1_ratio=0.1; total time=   0.0s\n",
      "[CV] END ..............................alpha=0.3, l1_ratio=1; total time=   0.0s\n",
      "[CV] END ..............................alpha=0.3, l1_ratio=1; total time=   0.0s\n",
      "[CV] END ..............................alpha=0.3, l1_ratio=1; total time=   0.0s\n",
      "[CV] END ..............................alpha=0.3, l1_ratio=1; total time=   0.0s\n",
      "[CV] END ..............................alpha=0.3, l1_ratio=1; total time=   0.0s\n",
      "[CV] END .............................alpha=0.3, l1_ratio=10; total time=   0.0s\n",
      "[CV] END .............................alpha=0.3, l1_ratio=10; total time=   0.0s\n",
      "[CV] END .............................alpha=0.3, l1_ratio=10; total time=   0.0s\n",
      "[CV] END .............................alpha=0.3, l1_ratio=10; total time=   0.0s\n",
      "[CV] END .............................alpha=0.3, l1_ratio=10; total time=   0.0s\n",
      "[CV] END ............................alpha=0.3, l1_ratio=100; total time=   0.0s\n",
      "[CV] END ............................alpha=0.3, l1_ratio=100; total time=   0.0s\n",
      "[CV] END ............................alpha=0.3, l1_ratio=100; total time=   0.0s\n",
      "[CV] END ............................alpha=0.3, l1_ratio=100; total time=   0.0s\n",
      "[CV] END ............................alpha=0.3, l1_ratio=100; total time=   0.0s\n",
      "[CV] END ...........................alpha=0.5, l1_ratio=0.01; total time=   0.0s\n",
      "[CV] END ...........................alpha=0.5, l1_ratio=0.01; total time=   0.0s\n",
      "[CV] END ...........................alpha=0.5, l1_ratio=0.01; total time=   0.0s\n",
      "[CV] END ...........................alpha=0.5, l1_ratio=0.01; total time=   0.0s\n",
      "[CV] END ...........................alpha=0.5, l1_ratio=0.01; total time=   0.0s\n",
      "[CV] END ............................alpha=0.5, l1_ratio=0.1; total time=   0.0s\n",
      "[CV] END ............................alpha=0.5, l1_ratio=0.1; total time=   0.0s\n",
      "[CV] END ............................alpha=0.5, l1_ratio=0.1; total time=   0.0s\n",
      "[CV] END ............................alpha=0.5, l1_ratio=0.1; total time=   0.0s\n",
      "[CV] END ............................alpha=0.5, l1_ratio=0.1; total time=   0.0s\n",
      "[CV] END ..............................alpha=0.5, l1_ratio=1; total time=   0.0s\n",
      "[CV] END ..............................alpha=0.5, l1_ratio=1; total time=   0.0s\n",
      "[CV] END ..............................alpha=0.5, l1_ratio=1; total time=   0.0s\n",
      "[CV] END ..............................alpha=0.5, l1_ratio=1; total time=   0.0s\n",
      "[CV] END ..............................alpha=0.5, l1_ratio=1; total time=   0.0s\n",
      "[CV] END .............................alpha=0.5, l1_ratio=10; total time=   0.0s\n",
      "[CV] END .............................alpha=0.5, l1_ratio=10; total time=   0.0s\n",
      "[CV] END .............................alpha=0.5, l1_ratio=10; total time=   0.0s\n",
      "[CV] END .............................alpha=0.5, l1_ratio=10; total time=   0.0s\n",
      "[CV] END .............................alpha=0.5, l1_ratio=10; total time=   0.0s\n",
      "[CV] END ............................alpha=0.5, l1_ratio=100; total time=   0.0s\n",
      "[CV] END ............................alpha=0.5, l1_ratio=100; total time=   0.0s\n",
      "[CV] END ............................alpha=0.5, l1_ratio=100; total time=   0.0s\n",
      "[CV] END ............................alpha=0.5, l1_ratio=100; total time=   0.0s\n",
      "[CV] END ............................alpha=0.5, l1_ratio=100; total time=   0.0s\n",
      "[CV] END ...........................alpha=0.7, l1_ratio=0.01; total time=   0.0s\n",
      "[CV] END ...........................alpha=0.7, l1_ratio=0.01; total time=   0.0s\n",
      "[CV] END ...........................alpha=0.7, l1_ratio=0.01; total time=   0.0s\n",
      "[CV] END ...........................alpha=0.7, l1_ratio=0.01; total time=   0.0s\n",
      "[CV] END ...........................alpha=0.7, l1_ratio=0.01; total time=   0.0s\n",
      "[CV] END ............................alpha=0.7, l1_ratio=0.1; total time=   0.0s\n",
      "[CV] END ............................alpha=0.7, l1_ratio=0.1; total time=   0.0s\n",
      "[CV] END ............................alpha=0.7, l1_ratio=0.1; total time=   0.0s\n",
      "[CV] END ............................alpha=0.7, l1_ratio=0.1; total time=   0.0s\n",
      "[CV] END ............................alpha=0.7, l1_ratio=0.1; total time=   0.0s\n",
      "[CV] END ..............................alpha=0.7, l1_ratio=1; total time=   0.0s\n",
      "[CV] END ..............................alpha=0.7, l1_ratio=1; total time=   0.0s\n",
      "[CV] END ..............................alpha=0.7, l1_ratio=1; total time=   0.0s\n",
      "[CV] END ..............................alpha=0.7, l1_ratio=1; total time=   0.0s\n",
      "[CV] END ..............................alpha=0.7, l1_ratio=1; total time=   0.0s\n",
      "[CV] END .............................alpha=0.7, l1_ratio=10; total time=   0.0s\n",
      "[CV] END .............................alpha=0.7, l1_ratio=10; total time=   0.0s\n",
      "[CV] END .............................alpha=0.7, l1_ratio=10; total time=   0.0s\n",
      "[CV] END .............................alpha=0.7, l1_ratio=10; total time=   0.0s\n",
      "[CV] END .............................alpha=0.7, l1_ratio=10; total time=   0.0s\n",
      "[CV] END ............................alpha=0.7, l1_ratio=100; total time=   0.0s\n",
      "[CV] END ............................alpha=0.7, l1_ratio=100; total time=   0.0s\n",
      "[CV] END ............................alpha=0.7, l1_ratio=100; total time=   0.0s\n",
      "[CV] END ............................alpha=0.7, l1_ratio=100; total time=   0.0s\n",
      "[CV] END ............................alpha=0.7, l1_ratio=100; total time=   0.0s\n",
      "[CV] END ...........................alpha=0.8, l1_ratio=0.01; total time=   0.0s\n",
      "[CV] END ...........................alpha=0.8, l1_ratio=0.01; total time=   0.0s\n",
      "[CV] END ...........................alpha=0.8, l1_ratio=0.01; total time=   0.0s\n",
      "[CV] END ...........................alpha=0.8, l1_ratio=0.01; total time=   0.0s\n",
      "[CV] END ...........................alpha=0.8, l1_ratio=0.01; total time=   0.0s\n",
      "[CV] END ............................alpha=0.8, l1_ratio=0.1; total time=   0.0s\n",
      "[CV] END ............................alpha=0.8, l1_ratio=0.1; total time=   0.0s\n",
      "[CV] END ............................alpha=0.8, l1_ratio=0.1; total time=   0.0s\n",
      "[CV] END ............................alpha=0.8, l1_ratio=0.1; total time=   0.0s\n",
      "[CV] END ............................alpha=0.8, l1_ratio=0.1; total time=   0.0s\n",
      "[CV] END ..............................alpha=0.8, l1_ratio=1; total time=   0.0s\n",
      "[CV] END ..............................alpha=0.8, l1_ratio=1; total time=   0.0s\n",
      "[CV] END ..............................alpha=0.8, l1_ratio=1; total time=   0.0s\n",
      "[CV] END ..............................alpha=0.8, l1_ratio=1; total time=   0.0s\n",
      "[CV] END ..............................alpha=0.8, l1_ratio=1; total time=   0.0s\n",
      "[CV] END .............................alpha=0.8, l1_ratio=10; total time=   0.0s\n",
      "[CV] END .............................alpha=0.8, l1_ratio=10; total time=   0.0s\n",
      "[CV] END .............................alpha=0.8, l1_ratio=10; total time=   0.0s\n",
      "[CV] END .............................alpha=0.8, l1_ratio=10; total time=   0.0s\n",
      "[CV] END .............................alpha=0.8, l1_ratio=10; total time=   0.0s\n",
      "[CV] END ............................alpha=0.8, l1_ratio=100; total time=   0.0s\n",
      "[CV] END ............................alpha=0.8, l1_ratio=100; total time=   0.0s\n",
      "[CV] END ............................alpha=0.8, l1_ratio=100; total time=   0.0s\n",
      "[CV] END ............................alpha=0.8, l1_ratio=100; total time=   0.0s\n",
      "[CV] END ............................alpha=0.8, l1_ratio=100; total time=   0.0s\n",
      "[CV] END ...........................alpha=0.1, l1_ratio=0.01; total time=   0.0s\n",
      "[CV] END ...........................alpha=0.1, l1_ratio=0.01; total time=   0.0s\n",
      "[CV] END ...........................alpha=0.1, l1_ratio=0.01; total time=   0.0s\n",
      "[CV] END ...........................alpha=0.1, l1_ratio=0.01; total time=   0.0s\n",
      "[CV] END ...........................alpha=0.1, l1_ratio=0.01; total time=   0.0s\n",
      "[CV] END ............................alpha=0.1, l1_ratio=0.1; total time=   0.0s\n",
      "[CV] END ............................alpha=0.1, l1_ratio=0.1; total time=   0.0s\n",
      "[CV] END ............................alpha=0.1, l1_ratio=0.1; total time=   0.0s\n",
      "[CV] END ............................alpha=0.1, l1_ratio=0.1; total time=   0.0s\n",
      "[CV] END ............................alpha=0.1, l1_ratio=0.1; total time=   0.0s\n",
      "[CV] END ..............................alpha=0.1, l1_ratio=1; total time=   0.0s\n",
      "[CV] END ..............................alpha=0.1, l1_ratio=1; total time=   0.0s\n",
      "[CV] END ..............................alpha=0.1, l1_ratio=1; total time=   0.0s\n",
      "[CV] END ..............................alpha=0.1, l1_ratio=1; total time=   0.0s\n",
      "[CV] END ..............................alpha=0.1, l1_ratio=1; total time=   0.0s\n",
      "[CV] END .............................alpha=0.1, l1_ratio=10; total time=   0.0s\n",
      "[CV] END .............................alpha=0.1, l1_ratio=10; total time=   0.0s\n",
      "[CV] END .............................alpha=0.1, l1_ratio=10; total time=   0.0s\n",
      "[CV] END .............................alpha=0.1, l1_ratio=10; total time=   0.0s\n",
      "[CV] END .............................alpha=0.1, l1_ratio=10; total time=   0.0s\n",
      "[CV] END ............................alpha=0.1, l1_ratio=100; total time=   0.0s\n",
      "[CV] END ............................alpha=0.1, l1_ratio=100; total time=   0.0s\n",
      "[CV] END ............................alpha=0.1, l1_ratio=100; total time=   0.0s\n",
      "[CV] END ............................alpha=0.1, l1_ratio=100; total time=   0.0s\n",
      "[CV] END ............................alpha=0.1, l1_ratio=100; total time=   0.0s\n"
     ]
    },
    {
     "name": "stderr",
     "output_type": "stream",
     "text": [
      "C:\\Users\\Ryan\\anaconda3\\envs\\myenv\\lib\\site-packages\\sklearn\\model_selection\\_validation.py:528: FitFailedWarning: \n",
      "60 fits failed out of a total of 150.\n",
      "The score on these train-test partitions for these parameters will be set to nan.\n",
      "If these failures are not expected, you can try to debug them by setting error_score='raise'.\n",
      "\n",
      "Below are more details about the failures:\n",
      "--------------------------------------------------------------------------------\n",
      "30 fits failed with the following error:\n",
      "Traceback (most recent call last):\n",
      "  File \"C:\\Users\\Ryan\\anaconda3\\envs\\myenv\\lib\\site-packages\\sklearn\\model_selection\\_validation.py\", line 866, in _fit_and_score\n",
      "    estimator.fit(X_train, y_train, **fit_params)\n",
      "  File \"C:\\Users\\Ryan\\anaconda3\\envs\\myenv\\lib\\site-packages\\sklearn\\base.py\", line 1382, in wrapper\n",
      "    estimator._validate_params()\n",
      "  File \"C:\\Users\\Ryan\\anaconda3\\envs\\myenv\\lib\\site-packages\\sklearn\\base.py\", line 436, in _validate_params\n",
      "    validate_parameter_constraints(\n",
      "  File \"C:\\Users\\Ryan\\anaconda3\\envs\\myenv\\lib\\site-packages\\sklearn\\utils\\_param_validation.py\", line 98, in validate_parameter_constraints\n",
      "    raise InvalidParameterError(\n",
      "sklearn.utils._param_validation.InvalidParameterError: The 'l1_ratio' parameter of ElasticNet must be a float in the range [0.0, 1.0]. Got 10 instead.\n",
      "\n",
      "--------------------------------------------------------------------------------\n",
      "30 fits failed with the following error:\n",
      "Traceback (most recent call last):\n",
      "  File \"C:\\Users\\Ryan\\anaconda3\\envs\\myenv\\lib\\site-packages\\sklearn\\model_selection\\_validation.py\", line 866, in _fit_and_score\n",
      "    estimator.fit(X_train, y_train, **fit_params)\n",
      "  File \"C:\\Users\\Ryan\\anaconda3\\envs\\myenv\\lib\\site-packages\\sklearn\\base.py\", line 1382, in wrapper\n",
      "    estimator._validate_params()\n",
      "  File \"C:\\Users\\Ryan\\anaconda3\\envs\\myenv\\lib\\site-packages\\sklearn\\base.py\", line 436, in _validate_params\n",
      "    validate_parameter_constraints(\n",
      "  File \"C:\\Users\\Ryan\\anaconda3\\envs\\myenv\\lib\\site-packages\\sklearn\\utils\\_param_validation.py\", line 98, in validate_parameter_constraints\n",
      "    raise InvalidParameterError(\n",
      "sklearn.utils._param_validation.InvalidParameterError: The 'l1_ratio' parameter of ElasticNet must be a float in the range [0.0, 1.0]. Got 100 instead.\n",
      "\n",
      "  warnings.warn(some_fits_failed_message, FitFailedWarning)\n",
      "C:\\Users\\Ryan\\anaconda3\\envs\\myenv\\lib\\site-packages\\sklearn\\model_selection\\_search.py:1108: UserWarning: One or more of the test scores are non-finite: [-53921930.40324172 -53920811.96540517 -53909640.26399224\n",
      "                nan                nan -53946718.0939211\n",
      " -53943348.63781269 -53909764.91100581                nan\n",
      "                nan -53971611.99836782 -53965973.68881549\n",
      " -53909889.48756925                nan                nan\n",
      " -53996607.21850041 -53988683.43262577 -53910014.19760505\n",
      "                nan                nan -54009141.33038174\n",
      " -54000068.90928315 -53910076.55304561                nan\n",
      "                nan -53921930.40324172 -53920811.96540517\n",
      " -53909640.26399224                nan                nan]\n",
      "  warnings.warn(\n"
     ]
    },
    {
     "data": {
      "text/html": [
       "<style>#sk-container-id-2 {\n",
       "  /* Definition of color scheme common for light and dark mode */\n",
       "  --sklearn-color-text: #000;\n",
       "  --sklearn-color-text-muted: #666;\n",
       "  --sklearn-color-line: gray;\n",
       "  /* Definition of color scheme for unfitted estimators */\n",
       "  --sklearn-color-unfitted-level-0: #fff5e6;\n",
       "  --sklearn-color-unfitted-level-1: #f6e4d2;\n",
       "  --sklearn-color-unfitted-level-2: #ffe0b3;\n",
       "  --sklearn-color-unfitted-level-3: chocolate;\n",
       "  /* Definition of color scheme for fitted estimators */\n",
       "  --sklearn-color-fitted-level-0: #f0f8ff;\n",
       "  --sklearn-color-fitted-level-1: #d4ebff;\n",
       "  --sklearn-color-fitted-level-2: #b3dbfd;\n",
       "  --sklearn-color-fitted-level-3: cornflowerblue;\n",
       "\n",
       "  /* Specific color for light theme */\n",
       "  --sklearn-color-text-on-default-background: var(--sg-text-color, var(--theme-code-foreground, var(--jp-content-font-color1, black)));\n",
       "  --sklearn-color-background: var(--sg-background-color, var(--theme-background, var(--jp-layout-color0, white)));\n",
       "  --sklearn-color-border-box: var(--sg-text-color, var(--theme-code-foreground, var(--jp-content-font-color1, black)));\n",
       "  --sklearn-color-icon: #696969;\n",
       "\n",
       "  @media (prefers-color-scheme: dark) {\n",
       "    /* Redefinition of color scheme for dark theme */\n",
       "    --sklearn-color-text-on-default-background: var(--sg-text-color, var(--theme-code-foreground, var(--jp-content-font-color1, white)));\n",
       "    --sklearn-color-background: var(--sg-background-color, var(--theme-background, var(--jp-layout-color0, #111)));\n",
       "    --sklearn-color-border-box: var(--sg-text-color, var(--theme-code-foreground, var(--jp-content-font-color1, white)));\n",
       "    --sklearn-color-icon: #878787;\n",
       "  }\n",
       "}\n",
       "\n",
       "#sk-container-id-2 {\n",
       "  color: var(--sklearn-color-text);\n",
       "}\n",
       "\n",
       "#sk-container-id-2 pre {\n",
       "  padding: 0;\n",
       "}\n",
       "\n",
       "#sk-container-id-2 input.sk-hidden--visually {\n",
       "  border: 0;\n",
       "  clip: rect(1px 1px 1px 1px);\n",
       "  clip: rect(1px, 1px, 1px, 1px);\n",
       "  height: 1px;\n",
       "  margin: -1px;\n",
       "  overflow: hidden;\n",
       "  padding: 0;\n",
       "  position: absolute;\n",
       "  width: 1px;\n",
       "}\n",
       "\n",
       "#sk-container-id-2 div.sk-dashed-wrapped {\n",
       "  border: 1px dashed var(--sklearn-color-line);\n",
       "  margin: 0 0.4em 0.5em 0.4em;\n",
       "  box-sizing: border-box;\n",
       "  padding-bottom: 0.4em;\n",
       "  background-color: var(--sklearn-color-background);\n",
       "}\n",
       "\n",
       "#sk-container-id-2 div.sk-container {\n",
       "  /* jupyter's `normalize.less` sets `[hidden] { display: none; }`\n",
       "     but bootstrap.min.css set `[hidden] { display: none !important; }`\n",
       "     so we also need the `!important` here to be able to override the\n",
       "     default hidden behavior on the sphinx rendered scikit-learn.org.\n",
       "     See: https://github.com/scikit-learn/scikit-learn/issues/21755 */\n",
       "  display: inline-block !important;\n",
       "  position: relative;\n",
       "}\n",
       "\n",
       "#sk-container-id-2 div.sk-text-repr-fallback {\n",
       "  display: none;\n",
       "}\n",
       "\n",
       "div.sk-parallel-item,\n",
       "div.sk-serial,\n",
       "div.sk-item {\n",
       "  /* draw centered vertical line to link estimators */\n",
       "  background-image: linear-gradient(var(--sklearn-color-text-on-default-background), var(--sklearn-color-text-on-default-background));\n",
       "  background-size: 2px 100%;\n",
       "  background-repeat: no-repeat;\n",
       "  background-position: center center;\n",
       "}\n",
       "\n",
       "/* Parallel-specific style estimator block */\n",
       "\n",
       "#sk-container-id-2 div.sk-parallel-item::after {\n",
       "  content: \"\";\n",
       "  width: 100%;\n",
       "  border-bottom: 2px solid var(--sklearn-color-text-on-default-background);\n",
       "  flex-grow: 1;\n",
       "}\n",
       "\n",
       "#sk-container-id-2 div.sk-parallel {\n",
       "  display: flex;\n",
       "  align-items: stretch;\n",
       "  justify-content: center;\n",
       "  background-color: var(--sklearn-color-background);\n",
       "  position: relative;\n",
       "}\n",
       "\n",
       "#sk-container-id-2 div.sk-parallel-item {\n",
       "  display: flex;\n",
       "  flex-direction: column;\n",
       "}\n",
       "\n",
       "#sk-container-id-2 div.sk-parallel-item:first-child::after {\n",
       "  align-self: flex-end;\n",
       "  width: 50%;\n",
       "}\n",
       "\n",
       "#sk-container-id-2 div.sk-parallel-item:last-child::after {\n",
       "  align-self: flex-start;\n",
       "  width: 50%;\n",
       "}\n",
       "\n",
       "#sk-container-id-2 div.sk-parallel-item:only-child::after {\n",
       "  width: 0;\n",
       "}\n",
       "\n",
       "/* Serial-specific style estimator block */\n",
       "\n",
       "#sk-container-id-2 div.sk-serial {\n",
       "  display: flex;\n",
       "  flex-direction: column;\n",
       "  align-items: center;\n",
       "  background-color: var(--sklearn-color-background);\n",
       "  padding-right: 1em;\n",
       "  padding-left: 1em;\n",
       "}\n",
       "\n",
       "\n",
       "/* Toggleable style: style used for estimator/Pipeline/ColumnTransformer box that is\n",
       "clickable and can be expanded/collapsed.\n",
       "- Pipeline and ColumnTransformer use this feature and define the default style\n",
       "- Estimators will overwrite some part of the style using the `sk-estimator` class\n",
       "*/\n",
       "\n",
       "/* Pipeline and ColumnTransformer style (default) */\n",
       "\n",
       "#sk-container-id-2 div.sk-toggleable {\n",
       "  /* Default theme specific background. It is overwritten whether we have a\n",
       "  specific estimator or a Pipeline/ColumnTransformer */\n",
       "  background-color: var(--sklearn-color-background);\n",
       "}\n",
       "\n",
       "/* Toggleable label */\n",
       "#sk-container-id-2 label.sk-toggleable__label {\n",
       "  cursor: pointer;\n",
       "  display: flex;\n",
       "  width: 100%;\n",
       "  margin-bottom: 0;\n",
       "  padding: 0.5em;\n",
       "  box-sizing: border-box;\n",
       "  text-align: center;\n",
       "  align-items: start;\n",
       "  justify-content: space-between;\n",
       "  gap: 0.5em;\n",
       "}\n",
       "\n",
       "#sk-container-id-2 label.sk-toggleable__label .caption {\n",
       "  font-size: 0.6rem;\n",
       "  font-weight: lighter;\n",
       "  color: var(--sklearn-color-text-muted);\n",
       "}\n",
       "\n",
       "#sk-container-id-2 label.sk-toggleable__label-arrow:before {\n",
       "  /* Arrow on the left of the label */\n",
       "  content: \"▸\";\n",
       "  float: left;\n",
       "  margin-right: 0.25em;\n",
       "  color: var(--sklearn-color-icon);\n",
       "}\n",
       "\n",
       "#sk-container-id-2 label.sk-toggleable__label-arrow:hover:before {\n",
       "  color: var(--sklearn-color-text);\n",
       "}\n",
       "\n",
       "/* Toggleable content - dropdown */\n",
       "\n",
       "#sk-container-id-2 div.sk-toggleable__content {\n",
       "  max-height: 0;\n",
       "  max-width: 0;\n",
       "  overflow: hidden;\n",
       "  text-align: left;\n",
       "  /* unfitted */\n",
       "  background-color: var(--sklearn-color-unfitted-level-0);\n",
       "}\n",
       "\n",
       "#sk-container-id-2 div.sk-toggleable__content.fitted {\n",
       "  /* fitted */\n",
       "  background-color: var(--sklearn-color-fitted-level-0);\n",
       "}\n",
       "\n",
       "#sk-container-id-2 div.sk-toggleable__content pre {\n",
       "  margin: 0.2em;\n",
       "  border-radius: 0.25em;\n",
       "  color: var(--sklearn-color-text);\n",
       "  /* unfitted */\n",
       "  background-color: var(--sklearn-color-unfitted-level-0);\n",
       "}\n",
       "\n",
       "#sk-container-id-2 div.sk-toggleable__content.fitted pre {\n",
       "  /* unfitted */\n",
       "  background-color: var(--sklearn-color-fitted-level-0);\n",
       "}\n",
       "\n",
       "#sk-container-id-2 input.sk-toggleable__control:checked~div.sk-toggleable__content {\n",
       "  /* Expand drop-down */\n",
       "  max-height: 200px;\n",
       "  max-width: 100%;\n",
       "  overflow: auto;\n",
       "}\n",
       "\n",
       "#sk-container-id-2 input.sk-toggleable__control:checked~label.sk-toggleable__label-arrow:before {\n",
       "  content: \"▾\";\n",
       "}\n",
       "\n",
       "/* Pipeline/ColumnTransformer-specific style */\n",
       "\n",
       "#sk-container-id-2 div.sk-label input.sk-toggleable__control:checked~label.sk-toggleable__label {\n",
       "  color: var(--sklearn-color-text);\n",
       "  background-color: var(--sklearn-color-unfitted-level-2);\n",
       "}\n",
       "\n",
       "#sk-container-id-2 div.sk-label.fitted input.sk-toggleable__control:checked~label.sk-toggleable__label {\n",
       "  background-color: var(--sklearn-color-fitted-level-2);\n",
       "}\n",
       "\n",
       "/* Estimator-specific style */\n",
       "\n",
       "/* Colorize estimator box */\n",
       "#sk-container-id-2 div.sk-estimator input.sk-toggleable__control:checked~label.sk-toggleable__label {\n",
       "  /* unfitted */\n",
       "  background-color: var(--sklearn-color-unfitted-level-2);\n",
       "}\n",
       "\n",
       "#sk-container-id-2 div.sk-estimator.fitted input.sk-toggleable__control:checked~label.sk-toggleable__label {\n",
       "  /* fitted */\n",
       "  background-color: var(--sklearn-color-fitted-level-2);\n",
       "}\n",
       "\n",
       "#sk-container-id-2 div.sk-label label.sk-toggleable__label,\n",
       "#sk-container-id-2 div.sk-label label {\n",
       "  /* The background is the default theme color */\n",
       "  color: var(--sklearn-color-text-on-default-background);\n",
       "}\n",
       "\n",
       "/* On hover, darken the color of the background */\n",
       "#sk-container-id-2 div.sk-label:hover label.sk-toggleable__label {\n",
       "  color: var(--sklearn-color-text);\n",
       "  background-color: var(--sklearn-color-unfitted-level-2);\n",
       "}\n",
       "\n",
       "/* Label box, darken color on hover, fitted */\n",
       "#sk-container-id-2 div.sk-label.fitted:hover label.sk-toggleable__label.fitted {\n",
       "  color: var(--sklearn-color-text);\n",
       "  background-color: var(--sklearn-color-fitted-level-2);\n",
       "}\n",
       "\n",
       "/* Estimator label */\n",
       "\n",
       "#sk-container-id-2 div.sk-label label {\n",
       "  font-family: monospace;\n",
       "  font-weight: bold;\n",
       "  display: inline-block;\n",
       "  line-height: 1.2em;\n",
       "}\n",
       "\n",
       "#sk-container-id-2 div.sk-label-container {\n",
       "  text-align: center;\n",
       "}\n",
       "\n",
       "/* Estimator-specific */\n",
       "#sk-container-id-2 div.sk-estimator {\n",
       "  font-family: monospace;\n",
       "  border: 1px dotted var(--sklearn-color-border-box);\n",
       "  border-radius: 0.25em;\n",
       "  box-sizing: border-box;\n",
       "  margin-bottom: 0.5em;\n",
       "  /* unfitted */\n",
       "  background-color: var(--sklearn-color-unfitted-level-0);\n",
       "}\n",
       "\n",
       "#sk-container-id-2 div.sk-estimator.fitted {\n",
       "  /* fitted */\n",
       "  background-color: var(--sklearn-color-fitted-level-0);\n",
       "}\n",
       "\n",
       "/* on hover */\n",
       "#sk-container-id-2 div.sk-estimator:hover {\n",
       "  /* unfitted */\n",
       "  background-color: var(--sklearn-color-unfitted-level-2);\n",
       "}\n",
       "\n",
       "#sk-container-id-2 div.sk-estimator.fitted:hover {\n",
       "  /* fitted */\n",
       "  background-color: var(--sklearn-color-fitted-level-2);\n",
       "}\n",
       "\n",
       "/* Specification for estimator info (e.g. \"i\" and \"?\") */\n",
       "\n",
       "/* Common style for \"i\" and \"?\" */\n",
       "\n",
       ".sk-estimator-doc-link,\n",
       "a:link.sk-estimator-doc-link,\n",
       "a:visited.sk-estimator-doc-link {\n",
       "  float: right;\n",
       "  font-size: smaller;\n",
       "  line-height: 1em;\n",
       "  font-family: monospace;\n",
       "  background-color: var(--sklearn-color-background);\n",
       "  border-radius: 1em;\n",
       "  height: 1em;\n",
       "  width: 1em;\n",
       "  text-decoration: none !important;\n",
       "  margin-left: 0.5em;\n",
       "  text-align: center;\n",
       "  /* unfitted */\n",
       "  border: var(--sklearn-color-unfitted-level-1) 1pt solid;\n",
       "  color: var(--sklearn-color-unfitted-level-1);\n",
       "}\n",
       "\n",
       ".sk-estimator-doc-link.fitted,\n",
       "a:link.sk-estimator-doc-link.fitted,\n",
       "a:visited.sk-estimator-doc-link.fitted {\n",
       "  /* fitted */\n",
       "  border: var(--sklearn-color-fitted-level-1) 1pt solid;\n",
       "  color: var(--sklearn-color-fitted-level-1);\n",
       "}\n",
       "\n",
       "/* On hover */\n",
       "div.sk-estimator:hover .sk-estimator-doc-link:hover,\n",
       ".sk-estimator-doc-link:hover,\n",
       "div.sk-label-container:hover .sk-estimator-doc-link:hover,\n",
       ".sk-estimator-doc-link:hover {\n",
       "  /* unfitted */\n",
       "  background-color: var(--sklearn-color-unfitted-level-3);\n",
       "  color: var(--sklearn-color-background);\n",
       "  text-decoration: none;\n",
       "}\n",
       "\n",
       "div.sk-estimator.fitted:hover .sk-estimator-doc-link.fitted:hover,\n",
       ".sk-estimator-doc-link.fitted:hover,\n",
       "div.sk-label-container:hover .sk-estimator-doc-link.fitted:hover,\n",
       ".sk-estimator-doc-link.fitted:hover {\n",
       "  /* fitted */\n",
       "  background-color: var(--sklearn-color-fitted-level-3);\n",
       "  color: var(--sklearn-color-background);\n",
       "  text-decoration: none;\n",
       "}\n",
       "\n",
       "/* Span, style for the box shown on hovering the info icon */\n",
       ".sk-estimator-doc-link span {\n",
       "  display: none;\n",
       "  z-index: 9999;\n",
       "  position: relative;\n",
       "  font-weight: normal;\n",
       "  right: .2ex;\n",
       "  padding: .5ex;\n",
       "  margin: .5ex;\n",
       "  width: min-content;\n",
       "  min-width: 20ex;\n",
       "  max-width: 50ex;\n",
       "  color: var(--sklearn-color-text);\n",
       "  box-shadow: 2pt 2pt 4pt #999;\n",
       "  /* unfitted */\n",
       "  background: var(--sklearn-color-unfitted-level-0);\n",
       "  border: .5pt solid var(--sklearn-color-unfitted-level-3);\n",
       "}\n",
       "\n",
       ".sk-estimator-doc-link.fitted span {\n",
       "  /* fitted */\n",
       "  background: var(--sklearn-color-fitted-level-0);\n",
       "  border: var(--sklearn-color-fitted-level-3);\n",
       "}\n",
       "\n",
       ".sk-estimator-doc-link:hover span {\n",
       "  display: block;\n",
       "}\n",
       "\n",
       "/* \"?\"-specific style due to the `<a>` HTML tag */\n",
       "\n",
       "#sk-container-id-2 a.estimator_doc_link {\n",
       "  float: right;\n",
       "  font-size: 1rem;\n",
       "  line-height: 1em;\n",
       "  font-family: monospace;\n",
       "  background-color: var(--sklearn-color-background);\n",
       "  border-radius: 1rem;\n",
       "  height: 1rem;\n",
       "  width: 1rem;\n",
       "  text-decoration: none;\n",
       "  /* unfitted */\n",
       "  color: var(--sklearn-color-unfitted-level-1);\n",
       "  border: var(--sklearn-color-unfitted-level-1) 1pt solid;\n",
       "}\n",
       "\n",
       "#sk-container-id-2 a.estimator_doc_link.fitted {\n",
       "  /* fitted */\n",
       "  border: var(--sklearn-color-fitted-level-1) 1pt solid;\n",
       "  color: var(--sklearn-color-fitted-level-1);\n",
       "}\n",
       "\n",
       "/* On hover */\n",
       "#sk-container-id-2 a.estimator_doc_link:hover {\n",
       "  /* unfitted */\n",
       "  background-color: var(--sklearn-color-unfitted-level-3);\n",
       "  color: var(--sklearn-color-background);\n",
       "  text-decoration: none;\n",
       "}\n",
       "\n",
       "#sk-container-id-2 a.estimator_doc_link.fitted:hover {\n",
       "  /* fitted */\n",
       "  background-color: var(--sklearn-color-fitted-level-3);\n",
       "}\n",
       "</style><div id=\"sk-container-id-2\" class=\"sk-top-container\"><div class=\"sk-text-repr-fallback\"><pre>GridSearchCV(cv=5, estimator=ElasticNet(),\n",
       "             param_grid={&#x27;alpha&#x27;: [0.1, 0.3, 0.5, 0.7, 0.8, 0.1],\n",
       "                         &#x27;l1_ratio&#x27;: [0.01, 0.1, 1, 10, 100]},\n",
       "             scoring=&#x27;neg_mean_squared_error&#x27;, verbose=2)</pre><b>In a Jupyter environment, please rerun this cell to show the HTML representation or trust the notebook. <br />On GitHub, the HTML representation is unable to render, please try loading this page with nbviewer.org.</b></div><div class=\"sk-container\" hidden><div class=\"sk-item sk-dashed-wrapped\"><div class=\"sk-label-container\"><div class=\"sk-label fitted sk-toggleable\"><input class=\"sk-toggleable__control sk-hidden--visually\" id=\"sk-estimator-id-2\" type=\"checkbox\" ><label for=\"sk-estimator-id-2\" class=\"sk-toggleable__label fitted sk-toggleable__label-arrow\"><div><div>GridSearchCV</div></div><div><a class=\"sk-estimator-doc-link fitted\" rel=\"noreferrer\" target=\"_blank\" href=\"https://scikit-learn.org/1.6/modules/generated/sklearn.model_selection.GridSearchCV.html\">?<span>Documentation for GridSearchCV</span></a><span class=\"sk-estimator-doc-link fitted\">i<span>Fitted</span></span></div></label><div class=\"sk-toggleable__content fitted\"><pre>GridSearchCV(cv=5, estimator=ElasticNet(),\n",
       "             param_grid={&#x27;alpha&#x27;: [0.1, 0.3, 0.5, 0.7, 0.8, 0.1],\n",
       "                         &#x27;l1_ratio&#x27;: [0.01, 0.1, 1, 10, 100]},\n",
       "             scoring=&#x27;neg_mean_squared_error&#x27;, verbose=2)</pre></div> </div></div><div class=\"sk-parallel\"><div class=\"sk-parallel-item\"><div class=\"sk-item\"><div class=\"sk-label-container\"><div class=\"sk-label fitted sk-toggleable\"><input class=\"sk-toggleable__control sk-hidden--visually\" id=\"sk-estimator-id-3\" type=\"checkbox\" ><label for=\"sk-estimator-id-3\" class=\"sk-toggleable__label fitted sk-toggleable__label-arrow\"><div><div>best_estimator_: ElasticNet</div></div></label><div class=\"sk-toggleable__content fitted\"><pre>ElasticNet(alpha=0.1, l1_ratio=1)</pre></div> </div></div><div class=\"sk-serial\"><div class=\"sk-item\"><div class=\"sk-estimator fitted sk-toggleable\"><input class=\"sk-toggleable__control sk-hidden--visually\" id=\"sk-estimator-id-4\" type=\"checkbox\" ><label for=\"sk-estimator-id-4\" class=\"sk-toggleable__label fitted sk-toggleable__label-arrow\"><div><div>ElasticNet</div></div><div><a class=\"sk-estimator-doc-link fitted\" rel=\"noreferrer\" target=\"_blank\" href=\"https://scikit-learn.org/1.6/modules/generated/sklearn.linear_model.ElasticNet.html\">?<span>Documentation for ElasticNet</span></a></div></label><div class=\"sk-toggleable__content fitted\"><pre>ElasticNet(alpha=0.1, l1_ratio=1)</pre></div> </div></div></div></div></div></div></div></div></div>"
      ],
      "text/plain": [
       "GridSearchCV(cv=5, estimator=ElasticNet(),\n",
       "             param_grid={'alpha': [0.1, 0.3, 0.5, 0.7, 0.8, 0.1],\n",
       "                         'l1_ratio': [0.01, 0.1, 1, 10, 100]},\n",
       "             scoring='neg_mean_squared_error', verbose=2)"
      ]
     },
     "execution_count": 524,
     "metadata": {},
     "output_type": "execute_result"
    }
   ],
   "source": [
    "gridModel.fit(X_train,y_train)"
   ]
  },
  {
   "cell_type": "code",
   "execution_count": 526,
   "id": "8b283830-078d-45b5-b98f-31a35ca35c71",
   "metadata": {},
   "outputs": [
    {
     "data": {
      "text/plain": [
       "{'alpha': 0.1, 'l1_ratio': 1}"
      ]
     },
     "execution_count": 526,
     "metadata": {},
     "output_type": "execute_result"
    }
   ],
   "source": [
    "gridModel.best_params_"
   ]
  },
  {
   "cell_type": "code",
   "execution_count": 530,
   "id": "fb28c76a-f62a-4a44-a74c-3ec6ad42eda3",
   "metadata": {},
   "outputs": [],
   "source": [
    "y_new_test = gridModel.predict(X_test)"
   ]
  },
  {
   "cell_type": "code",
   "execution_count": 534,
   "id": "a1acb2ec-68a7-4416-b1f5-5767ba30a93b",
   "metadata": {},
   "outputs": [],
   "source": [
    "RMSE = np.sqrt(mean_squared_error(y_test,y_new_test))"
   ]
  },
  {
   "cell_type": "code",
   "execution_count": 536,
   "id": "da7eec79-7869-4e4a-ba42-9938273ae652",
   "metadata": {},
   "outputs": [
    {
     "data": {
      "text/plain": [
       "np.float64(3084.417465449113)"
      ]
     },
     "execution_count": 536,
     "metadata": {},
     "output_type": "execute_result"
    }
   ],
   "source": [
    "RMSE"
   ]
  },
  {
   "cell_type": "code",
   "execution_count": 556,
   "id": "d84e4305-94fc-42cd-a7ae-d71937aa9833",
   "metadata": {},
   "outputs": [
    {
     "name": "stdout",
     "output_type": "stream",
     "text": [
      "R2 Score: 0.8345595725331347\n"
     ]
    }
   ],
   "source": [
    "print(\"R2 Score:\", r2_score(y_test, y_pred))"
   ]
  },
  {
   "cell_type": "markdown",
   "id": "173fed47-ca79-4725-bc71-4cd8970fe319",
   "metadata": {},
   "source": [
    "#### Our model scored 83% which is wonderful"
   ]
  },
  {
   "cell_type": "code",
   "execution_count": null,
   "id": "10bf686d-ef58-420e-8c9d-6efb7bf8308d",
   "metadata": {},
   "outputs": [],
   "source": []
  }
 ],
 "metadata": {
  "kernelspec": {
   "display_name": "Python [conda env:myenv]",
   "language": "python",
   "name": "conda-env-myenv-py"
  },
  "language_info": {
   "codemirror_mode": {
    "name": "ipython",
    "version": 3
   },
   "file_extension": ".py",
   "mimetype": "text/x-python",
   "name": "python",
   "nbconvert_exporter": "python",
   "pygments_lexer": "ipython3",
   "version": "3.9.21"
  }
 },
 "nbformat": 4,
 "nbformat_minor": 5
}
